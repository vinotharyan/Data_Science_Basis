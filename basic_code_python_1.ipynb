{
 "cells": [
  {
   "cell_type": "markdown",
   "metadata": {},
   "source": [
    "### Base python program"
   ]
  },
  {
   "cell_type": "markdown",
   "metadata": {},
   "source": [
    "#### program return the square of given number"
   ]
  },
  {
   "cell_type": "code",
   "execution_count": 3,
   "metadata": {},
   "outputs": [],
   "source": [
    "def square(n):\n",
    "  \"\"\"Returns the square of a number.\"\"\"\n",
    "  squared = n ** 2\n",
    "  print (\"%d squared is %d\" % (n, squared))\n",
    "  return squared"
   ]
  },
  {
   "cell_type": "code",
   "execution_count": 4,
   "metadata": {},
   "outputs": [
    {
     "name": "stdout",
     "output_type": "stream",
     "text": [
      "10 squared is 100\n"
     ]
    },
    {
     "data": {
      "text/plain": [
       "100"
      ]
     },
     "execution_count": 4,
     "metadata": {},
     "output_type": "execute_result"
    }
   ],
   "source": [
    "square(10)"
   ]
  },
  {
   "cell_type": "code",
   "execution_count": 5,
   "metadata": {},
   "outputs": [
    {
     "name": "stdout",
     "output_type": "stream",
     "text": [
      "25 squared is 625\n"
     ]
    },
    {
     "data": {
      "text/plain": [
       "625"
      ]
     },
     "execution_count": 5,
     "metadata": {},
     "output_type": "execute_result"
    }
   ],
   "source": [
    "square(25)"
   ]
  },
  {
   "cell_type": "code",
   "execution_count": 6,
   "metadata": {},
   "outputs": [
    {
     "name": "stdout",
     "output_type": "stream",
     "text": [
      "37 to the power of 4 is 1874161.\n"
     ]
    }
   ],
   "source": [
    "def power(base, exponent):  # Add your parameters here!\n",
    "  result = base ** exponent\n",
    "  print (\"%d to the power of %d is %d.\" % (base, exponent, result))\n",
    "\n",
    "power(37, 4)  # Add your arguments here!"
   ]
  },
  {
   "cell_type": "code",
   "execution_count": 7,
   "metadata": {},
   "outputs": [
    {
     "name": "stdout",
     "output_type": "stream",
     "text": [
      "40 to the power of 4 is 2560000.\n"
     ]
    }
   ],
   "source": [
    "power(40,4)"
   ]
  },
  {
   "cell_type": "markdown",
   "metadata": {},
   "source": [
    "Functions Calling Functions\n",
    "\n",
    "\n",
    "We've seen functions that can print text or do simple arithmetic, but functions can be much more powerful than that. For example, a function can call another function:"
   ]
  },
  {
   "cell_type": "code",
   "execution_count": 8,
   "metadata": {},
   "outputs": [],
   "source": [
    "def one_good_turn(n):\n",
    "  return n + 1\n",
    "    \n",
    "def deserves_another(n):\n",
    "  return one_good_turn(n) + 2"
   ]
  },
  {
   "cell_type": "code",
   "execution_count": 10,
   "metadata": {},
   "outputs": [
    {
     "data": {
      "text/plain": [
       "6"
      ]
     },
     "execution_count": 10,
     "metadata": {},
     "output_type": "execute_result"
    }
   ],
   "source": [
    "#one_good_turn(1)\n",
    "deserves_another(3)"
   ]
  },
  {
   "cell_type": "code",
   "execution_count": 11,
   "metadata": {},
   "outputs": [],
   "source": [
    "def one_multi(n):\n",
    "    return n*2\n",
    "\n",
    "def two_mut(n):\n",
    "    \"\"\" here i am calling the function one_multi \"\"\"\n",
    "    return one_multi(n)*2\n"
   ]
  },
  {
   "cell_type": "code",
   "execution_count": 12,
   "metadata": {},
   "outputs": [
    {
     "data": {
      "text/plain": [
       "8"
      ]
     },
     "execution_count": 12,
     "metadata": {},
     "output_type": "execute_result"
    }
   ],
   "source": [
    "two_mut(2)"
   ]
  },
  {
   "cell_type": "markdown",
   "metadata": {},
   "source": [
    "Let's create a few more functions just for good measure."
   ]
  },
  {
   "cell_type": "markdown",
   "metadata": {},
   "source": [
    "def shout(phrase):\n",
    "  if phrase == phrase.upper():\n",
    "    return \"YOU'RE SHOUTING!\"\n",
    "  else:\n",
    "    return \"Can you speak up?\"\n",
    "\n",
    "shout(\"I'M INTERESTED IN SHOUTING\")"
   ]
  },
  {
   "cell_type": "code",
   "execution_count": 16,
   "metadata": {},
   "outputs": [
    {
     "name": "stdout",
     "output_type": "stream",
     "text": [
      "729\n"
     ]
    },
    {
     "data": {
      "text/plain": [
       "False"
      ]
     },
     "execution_count": 16,
     "metadata": {},
     "output_type": "execute_result"
    }
   ],
   "source": [
    "def cube(number):\n",
    "  return number*number*number\n",
    "\n",
    "def by_three(number):\n",
    "  if number%3==0:\n",
    "    return cube(number)\n",
    "  else:\n",
    "    return False\n",
    "\"\"\" calling by 9 which is dvisiable by 3\"\"\"  \n",
    "print(by_three(9))\n",
    "\"\"\"calling by 14 which not divisiable by  3\"\"\"\n",
    "by_three(14)"
   ]
  },
  {
   "cell_type": "code",
   "execution_count": 18,
   "metadata": {},
   "outputs": [
    {
     "name": "stdout",
     "output_type": "stream",
     "text": [
      "5.0\n"
     ]
    }
   ],
   "source": [
    "import math\n",
    "print(math.sqrt(25))\n"
   ]
  },
  {
   "cell_type": "code",
   "execution_count": 19,
   "metadata": {},
   "outputs": [
    {
     "name": "stdout",
     "output_type": "stream",
     "text": [
      "5.0\n"
     ]
    }
   ],
   "source": [
    "from math import sqrt\n",
    "print(sqrt(25))"
   ]
  },
  {
   "cell_type": "markdown",
   "metadata": {},
   "source": [
    "### To know what are all the function avaviable in math Libaray"
   ]
  },
  {
   "cell_type": "code",
   "execution_count": 24,
   "metadata": {},
   "outputs": [
    {
     "name": "stdout",
     "output_type": "stream",
     "text": [
      "['__doc__', '__loader__', '__name__', '__package__', '__spec__', 'acos', 'acosh', 'asin', 'asinh', 'atan', 'atan2', 'atanh', 'ceil', 'copysign', 'cos', 'cosh', 'degrees', 'e', 'erf', 'erfc', 'exp', 'expm1', 'fabs', 'factorial', 'floor', 'fmod', 'frexp', 'fsum', 'gamma', 'gcd', 'hypot', 'inf', 'isclose', 'isfinite', 'isinf', 'isnan', 'ldexp', 'lgamma', 'log', 'log10', 'log1p', 'log2', 'modf', 'nan', 'pi', 'pow', 'radians', 'sin', 'sinh', 'sqrt', 'tan', 'tanh', 'tau', 'trunc']\n"
     ]
    }
   ],
   "source": [
    "import math # Imports the math module\n",
    "everything = dir(math) # Sets everything to a list of things from math\n",
    "print(everything) # Prints 'em all!"
   ]
  },
  {
   "cell_type": "code",
   "execution_count": 26,
   "metadata": {},
   "outputs": [
    {
     "name": "stdout",
     "output_type": "stream",
     "text": [
      "10\n",
      "-10\n",
      "10\n"
     ]
    },
    {
     "data": {
      "text/plain": [
       "10"
      ]
     },
     "execution_count": 26,
     "metadata": {},
     "output_type": "execute_result"
    }
   ],
   "source": [
    "def biggest_number(*args):\n",
    "  print(max(args))\n",
    "  return max(args)\n",
    "    \n",
    "def smallest_number(*args):\n",
    "  print(min(args))\n",
    "  return min(args)\n",
    "\n",
    "def distance_from_zero(arg):\n",
    "  print(abs(arg))\n",
    "  return abs(arg)\n",
    "\n",
    "biggest_number(-10, -5, 5, 10)\n",
    "smallest_number(-10, -5, 5, 10)\n",
    "distance_from_zero(-10)"
   ]
  },
  {
   "cell_type": "code",
   "execution_count": 27,
   "metadata": {},
   "outputs": [
    {
     "name": "stdout",
     "output_type": "stream",
     "text": [
      "1000\n"
     ]
    }
   ],
   "source": [
    "maximum = max(1000,888)\n",
    "\n",
    "print(maximum)"
   ]
  },
  {
   "cell_type": "code",
   "execution_count": 28,
   "metadata": {},
   "outputs": [
    {
     "name": "stdout",
     "output_type": "stream",
     "text": [
      "-5\n"
     ]
    }
   ],
   "source": [
    "minimum =min(34,-5)\n",
    "\n",
    "print(minimum)"
   ]
  },
  {
   "cell_type": "code",
   "execution_count": 29,
   "metadata": {},
   "outputs": [
    {
     "name": "stdout",
     "output_type": "stream",
     "text": [
      "42\n"
     ]
    }
   ],
   "source": [
    "absolute = abs(-42)\n",
    "\n",
    "print(absolute)"
   ]
  },
  {
   "cell_type": "markdown",
   "metadata": {},
   "source": [
    "type()\n",
    "\n",
    "Finally, the type() function returns the type of the data it receives as an argument. If you ask Python to do the following:"
   ]
  },
  {
   "cell_type": "code",
   "execution_count": 30,
   "metadata": {},
   "outputs": [
    {
     "name": "stdout",
     "output_type": "stream",
     "text": [
      "<class 'int'>\n",
      "<class 'float'>\n",
      "<class 'str'>\n"
     ]
    }
   ],
   "source": [
    "print(type(19))\n",
    "print(type(19.0))\n",
    "print(type(\"19\"))"
   ]
  },
  {
   "cell_type": "code",
   "execution_count": 32,
   "metadata": {},
   "outputs": [
    {
     "name": "stdout",
     "output_type": "stream",
     "text": [
      "Shutting down\n",
      "Shutdown aborted\n"
     ]
    },
    {
     "data": {
      "text/plain": [
       "'Sorry'"
      ]
     },
     "execution_count": 32,
     "metadata": {},
     "output_type": "execute_result"
    }
   ],
   "source": [
    "def shut_down(s):\n",
    "  if s==\"yes\":\n",
    "    return \"Shutting down\"\n",
    "  elif s=='no':\n",
    "    return \"Shutdown aborted\"\n",
    "  else:\n",
    "    return \"Sorry\"\n",
    "  \n",
    "  \n",
    "print(shut_down(\"yes\"))\n",
    "print(shut_down(\"no\"))\n",
    "shut_down(\"jj\")"
   ]
  },
  {
   "cell_type": "markdown",
   "metadata": {},
   "source": [
    "Built-In Functions\n",
    "\n",
    "Perfect! Last but not least, let's review the built-in functions you've learned about in this lesson.\n",
    "\n"
   ]
  },
  {
   "cell_type": "code",
   "execution_count": 36,
   "metadata": {},
   "outputs": [
    {
     "name": "stdout",
     "output_type": "stream",
     "text": [
      "the max is 4\n",
      "the min is 2\n"
     ]
    },
    {
     "data": {
      "text/plain": [
       "2"
      ]
     },
     "execution_count": 36,
     "metadata": {},
     "output_type": "execute_result"
    }
   ],
   "source": [
    "def is_numeric(num):\n",
    "  return type(num) == int or type(num) == float\n",
    "\n",
    "print(\"the max is %d\" %max(2, 3, 4)) # 4\n",
    "print(\"the min is %d\" %min(2, 3, 4)) # 2\n",
    "\n",
    "abs(2) # 2\n",
    "abs(-2) # 2"
   ]
  },
  {
   "cell_type": "code",
   "execution_count": 37,
   "metadata": {},
   "outputs": [
    {
     "name": "stdout",
     "output_type": "stream",
     "text": [
      "2\n",
      "Nope\n"
     ]
    }
   ],
   "source": [
    "def distance_from_zero(num):\n",
    "  if type(num) == int or type(num) == float:\n",
    "    return abs(num)\n",
    "  else:\n",
    "    return \"Nope\"\n",
    "  \n",
    "  \n",
    "print(distance_from_zero(-2))\n",
    "print(distance_from_zero(\"yes\"))"
   ]
  },
  {
   "cell_type": "code",
   "execution_count": 38,
   "metadata": {},
   "outputs": [
    {
     "data": {
      "text/plain": [
       "700"
      ]
     },
     "execution_count": 38,
     "metadata": {},
     "output_type": "execute_result"
    }
   ],
   "source": [
    "def hotel_cost(nights):\n",
    "  return 140 * nights\n",
    "\n",
    "hotel_cost(5)"
   ]
  },
  {
   "cell_type": "code",
   "execution_count": 41,
   "metadata": {},
   "outputs": [
    {
     "name": "stdout",
     "output_type": "stream",
     "text": [
      "yellow\n",
      "no idea\n"
     ]
    }
   ],
   "source": [
    "#Getting There\n",
    "#You're going to need to take a plane ride to get to your location.\n",
    "\n",
    "def fruit_color(fruit):\n",
    "  if fruit == \"apple\":\n",
    "    return \"red\"\n",
    "  elif fruit == \"banana\":\n",
    "    return \"yellow\"\n",
    "  elif fruit == \"pear\":\n",
    "    return \"green\"\n",
    "  else:\n",
    "    return \"no idea\"\n",
    "\n",
    "print(fruit_color(\"banana\"))\n",
    "print(fruit_color(\"mango\"))"
   ]
  },
  {
   "cell_type": "code",
   "execution_count": 42,
   "metadata": {},
   "outputs": [
    {
     "name": "stdout",
     "output_type": "stream",
     "text": [
      "220\n",
      "No idea\n"
     ]
    }
   ],
   "source": [
    "def plane_ride_cost(city):\n",
    "  if city==\"Charlotte\":\n",
    "    return 183\n",
    "  elif city==\"Tampa\":\n",
    "    return 220\n",
    "  elif city==\"Pittsburgh\":\n",
    "    return 222\n",
    "  elif city==\"Los Angeles\":\n",
    "    return 475\n",
    "  else:\n",
    "    return \"No idea\"\n",
    "  \n",
    "print(plane_ride_cost(\"Tampa\"))\n",
    "print(plane_ride_cost(\"texas\"))"
   ]
  },
  {
   "cell_type": "code",
   "execution_count": 43,
   "metadata": {},
   "outputs": [
    {
     "name": "stdout",
     "output_type": "stream",
     "text": [
      "230\n",
      "100\n",
      "80\n"
     ]
    }
   ],
   "source": [
    "def rental_car_cost(days):\n",
    "  rent=40\n",
    "  if days>=7:\n",
    "    return (rent*days)-50\n",
    "  elif days>=3:\n",
    "    return (rent*days)-20\n",
    "  else:\n",
    "    return rent*days\n",
    "  \n",
    "print(rental_car_cost(7))\n",
    "print(rental_car_cost(3))\n",
    "print(rental_car_cost(2))"
   ]
  },
  {
   "cell_type": "code",
   "execution_count": 44,
   "metadata": {},
   "outputs": [
    {
     "data": {
      "text/plain": [
       "960"
      ]
     },
     "execution_count": 44,
     "metadata": {},
     "output_type": "execute_result"
    }
   ],
   "source": [
    "def trip_cost(city,days):\n",
    "  return rental_car_cost(days)+hotel_cost(days - 1)+plane_ride_cost(city)\n",
    "\n",
    "trip_cost(\"Tampa\",5)"
   ]
  },
  {
   "cell_type": "code",
   "execution_count": 45,
   "metadata": {},
   "outputs": [
    {
     "data": {
      "text/plain": [
       "2100"
      ]
     },
     "execution_count": 45,
     "metadata": {},
     "output_type": "execute_result"
    }
   ],
   "source": [
    "def trip_cost(city, days, spending_money):\n",
    "  return rental_car_cost(days) + hotel_cost(days) + plane_ride_cost(city) + spending_money\n",
    "\n",
    "trip_cost(\"Tampa\",5,1000)"
   ]
  },
  {
   "cell_type": "code",
   "execution_count": 46,
   "metadata": {},
   "outputs": [
    {
     "name": "stdout",
     "output_type": "stream",
     "text": [
      "the total cost of los anaeles trip is 1955 \n"
     ]
    }
   ],
   "source": [
    "print(\"the total cost of los anaeles trip is %d \" %trip_cost(\"Los Angeles\",5,600 ))"
   ]
  },
  {
   "cell_type": "markdown",
   "metadata": {},
   "source": [
    "### Number Guess\n",
    "\n",
    "Wanna play a game? In this project, we'll build a program that rolls a pair of dice and asks the user to guess the sum. If the user's guess is equal to the total value of the dice roll, the user wins! Otherwise, the computer wins.\n",
    "\n",
    "The program should do the following:\n",
    "\n",
    "Roll a pair of dice.\n",
    "\n",
    "Add the values of the roll.\n",
    "\n",
    "Ask the user to guess a number.\n",
    "\n",
    "Compare the user's guess to the total value.\n",
    "\n",
    "Determine the winner (user or computer).\n",
    "\n",
    "Let's begin!"
   ]
  },
  {
   "cell_type": "code",
   "execution_count": 50,
   "metadata": {},
   "outputs": [],
   "source": [
    "\"\"\" Number Guess Program \"\"\"\n",
    "from random import randint\n",
    "from time import sleep\n",
    "\n",
    "def get_user_guess():\n",
    "  guess=int(input(\"guess number: \"))\n",
    "  return guess\n",
    "\n",
    "def roll_dice(number_of_sides):\n",
    "  first_roll=randint(1, number_of_sides)\n",
    "  second_roll=randint(1, number_of_sides)\n",
    "  max_val=max(first_roll,second_roll)\n",
    "  print(\"the max roll: %d \" % max_val)\n",
    "  guess=get_user_guess()\n",
    "  if guess>max_val:\n",
    "    print(\"guess is invalid \")\n",
    "  else:\n",
    "    print(\"Rollling........\")\n",
    "    sleep(2)\n",
    "    print(\"The 1st roll is: %d\" % first_roll)\n",
    "    sleep(1)\n",
    "    print(\"The 2st roll is: %d\" % second_roll)\n",
    "    sleep(1)\n",
    "    total_roll=(first_roll+second_roll)\n",
    "    print(\"the total value is : %d \"% total_roll)\n",
    "    print(\"result.......\")\n",
    "    sleep(1)\n",
    "    if guess == total_roll:\n",
    "      print(\"You won!\")\n",
    "    else:\n",
    "      print(\"You lost\")\n",
    "    \n",
    "\n"
   ]
  },
  {
   "cell_type": "code",
   "execution_count": 51,
   "metadata": {},
   "outputs": [
    {
     "name": "stdout",
     "output_type": "stream",
     "text": [
      "the max roll: 5 \n",
      "guess number: 3\n",
      "Rollling........\n",
      "The 1st roll is: 4\n",
      "The 2st roll is: 5\n",
      "the total value is : 9 \n",
      "result.......\n",
      "You lost\n"
     ]
    }
   ],
   "source": [
    "    \n",
    "\n",
    "roll_dice(6)"
   ]
  },
  {
   "cell_type": "code",
   "execution_count": 52,
   "metadata": {},
   "outputs": [
    {
     "name": "stdout",
     "output_type": "stream",
     "text": [
      "the max roll: 3 \n",
      "guess number: 3\n",
      "Rollling........\n",
      "The 1st roll is: 3\n",
      "The 2st roll is: 1\n",
      "the total value is : 4 \n",
      "result.......\n",
      "You lost\n"
     ]
    }
   ],
   "source": [
    "roll_dice(3)"
   ]
  },
  {
   "cell_type": "markdown",
   "metadata": {},
   "source": [
    "### Introduction to Lists\n",
    "\n",
    "Lists are a datatype you can use to store a collection of different pieces of information as a sequence under a single variable name. (Datatypes you've already learned about include strings, numbers, and booleans.)\n",
    "\n",
    "You can assign items to a list with an expression of the form"
   ]
  },
  {
   "cell_type": "code",
   "execution_count": 54,
   "metadata": {},
   "outputs": [
    {
     "name": "stdout",
     "output_type": "stream",
     "text": [
      "The first animal at the zoo is the pangolin\n",
      "The second animal at the zoo is the cassowary\n",
      "The third animal at the zoo is the sloth\n",
      "The fourth animal at the zoo is the tiger\n"
     ]
    }
   ],
   "source": [
    "zoo_animals = [\"pangolin\", \"cassowary\", \"sloth\",\"tiger\"];\n",
    "# One animal is missing!\n",
    "\n",
    "if len(zoo_animals) > 3:\n",
    "  print(\"The first animal at the zoo is the \" + zoo_animals[0])\n",
    "  print(\"The second animal at the zoo is the \" + zoo_animals[1])\n",
    "  print(\"The third animal at the zoo is the \" + zoo_animals[2])\n",
    "  print(\"The fourth animal at the zoo is the \" + zoo_animals[3])"
   ]
  },
  {
   "cell_type": "markdown",
   "metadata": {},
   "source": [
    "### Access by Index\n",
    "\n",
    "You can access an individual item on the list by its index. An index is like an address that identifies the item's place in the list. The index appears directly after the list name, in between brackets, like this: list_name[index].\n",
    "\n",
    "List indices begin with 0, not 1! You access the first item in a list like this: list_name[0]. The second item in a list is at index 1: list_name[1]. Computer scientists love to start counting from zero."
   ]
  },
  {
   "cell_type": "code",
   "execution_count": 55,
   "metadata": {},
   "outputs": [
    {
     "name": "stdout",
     "output_type": "stream",
     "text": [
      "Adding the numbers at indices 0 and 2...\n",
      "12\n",
      "Adding the numbers at indices 1 and 3...\n",
      "14\n"
     ]
    }
   ],
   "source": [
    "numbers = [5, 6, 7, 8]\n",
    "\n",
    "print(\"Adding the numbers at indices 0 and 2...\")\n",
    "print(numbers[0] + numbers[2])\n",
    "print(\"Adding the numbers at indices 1 and 3...\")\n",
    "# Your code here!\n",
    "print(numbers[1]+numbers[3])"
   ]
  },
  {
   "cell_type": "code",
   "execution_count": 56,
   "metadata": {},
   "outputs": [
    {
     "name": "stdout",
     "output_type": "stream",
     "text": [
      "['pangolin', 'cassowary', 'hyena', 'lion']\n"
     ]
    }
   ],
   "source": [
    "zoo_animals = [\"pangolin\", \"cassowary\", \"sloth\", \"tiger\"]\n",
    "# Last night our zoo's sloth brutally attacked \n",
    "# the poor tiger and ate it whole.\n",
    "\n",
    "# The ferocious sloth has been replaced by a friendly hyena.\n",
    "zoo_animals[2] = \"hyena\"\n",
    "\n",
    "# What shall fill the void left by our dear departed tiger?\n",
    "# Your code here!\n",
    "\n",
    "zoo_animals[3] = \"lion\"\n",
    "\n",
    "print(zoo_animals)"
   ]
  },
  {
   "cell_type": "markdown",
   "metadata": {},
   "source": [
    "Late Arrivals & List Length\n",
    "\n",
    "A list doesn't have to have a fixed length. You can add items to the end of a list any time you like!"
   ]
  },
  {
   "cell_type": "code",
   "execution_count": 57,
   "metadata": {},
   "outputs": [
    {
     "name": "stdout",
     "output_type": "stream",
     "text": [
      "There are 4 items in the suitcase.\n",
      "['sunglasses', 'glass', 'watch', 'shoe']\n"
     ]
    }
   ],
   "source": [
    "suitcase = [] \n",
    "suitcase.append(\"sunglasses\")\n",
    "\n",
    "# Your code here!\n",
    "suitcase.append(\"glass\")\n",
    "suitcase.append(\"watch\")\n",
    "suitcase.append(\"shoe\")\n",
    "\n",
    "list_length = len(suitcase) # Set this to the length of suitcase\n",
    "\n",
    "print(\"There are %d items in the suitcase.\" % (list_length))\n",
    "print(suitcase)"
   ]
  },
  {
   "cell_type": "code",
   "execution_count": 59,
   "metadata": {},
   "outputs": [
    {
     "name": "stdout",
     "output_type": "stream",
     "text": [
      "4\n",
      "['a', 'b', 'c', 'd']\n"
     ]
    }
   ],
   "source": [
    "letters = ['a', 'b', 'c']\n",
    "letters.append('d')\n",
    "print(len(letters))\n",
    "print(letters)"
   ]
  },
  {
   "cell_type": "markdown",
   "metadata": {},
   "source": [
    "## List Slicing\n",
    "Sometimes, you only want to access a portion of a list. Consider the following code:"
   ]
  },
  {
   "cell_type": "code",
   "execution_count": 60,
   "metadata": {},
   "outputs": [],
   "source": [
    "suitcase = [\"sunglasses\", \"hat\", \"passport\", \"laptop\", \"suit\", \"shoes\"]\n",
    "\n",
    "# The first and second items (index zero and one)\n",
    "first = suitcase[0:2]\n",
    "\n",
    "# Third and fourth items (index two and three)\n",
    "middle =suitcase[2:4]\n",
    "\n",
    "# The last two items (index four and five)\n",
    "last =suitcase[4:6]"
   ]
  },
  {
   "cell_type": "code",
   "execution_count": 61,
   "metadata": {},
   "outputs": [
    {
     "data": {
      "text/plain": [
       "['sunglasses', 'hat']"
      ]
     },
     "execution_count": 61,
     "metadata": {},
     "output_type": "execute_result"
    }
   ],
   "source": [
    "first\n"
   ]
  },
  {
   "cell_type": "code",
   "execution_count": 62,
   "metadata": {},
   "outputs": [
    {
     "data": {
      "text/plain": [
       "['passport', 'laptop']"
      ]
     },
     "execution_count": 62,
     "metadata": {},
     "output_type": "execute_result"
    }
   ],
   "source": [
    "middle"
   ]
  },
  {
   "cell_type": "code",
   "execution_count": 63,
   "metadata": {},
   "outputs": [
    {
     "data": {
      "text/plain": [
       "['suit', 'shoes']"
      ]
     },
     "execution_count": 63,
     "metadata": {},
     "output_type": "execute_result"
    }
   ],
   "source": [
    "last"
   ]
  },
  {
   "cell_type": "markdown",
   "metadata": {},
   "source": [
    "### Slicing Lists and Strings\n",
    "You can slice a string exactly like a list! In fact, you can think of strings as lists of characters: each character is a sequential item in the list, starting from index 0."
   ]
  },
  {
   "cell_type": "code",
   "execution_count": 64,
   "metadata": {},
   "outputs": [],
   "source": [
    "animals = \"catdogfrog\"\n",
    "\n",
    "# The first three characters of animals\n",
    "cat = animals[:3]\n",
    "\n",
    "# The fourth through sixth characters\n",
    "dog =animals[3:6]\n",
    "\n",
    "# From the seventh character to the end\n",
    "frog =animals[6:10]"
   ]
  },
  {
   "cell_type": "code",
   "execution_count": 65,
   "metadata": {},
   "outputs": [
    {
     "data": {
      "text/plain": [
       "'cat'"
      ]
     },
     "execution_count": 65,
     "metadata": {},
     "output_type": "execute_result"
    }
   ],
   "source": [
    "cat\n"
   ]
  },
  {
   "cell_type": "code",
   "execution_count": 66,
   "metadata": {},
   "outputs": [
    {
     "data": {
      "text/plain": [
       "'dog'"
      ]
     },
     "execution_count": 66,
     "metadata": {},
     "output_type": "execute_result"
    }
   ],
   "source": [
    "dog"
   ]
  },
  {
   "cell_type": "code",
   "execution_count": 67,
   "metadata": {},
   "outputs": [
    {
     "data": {
      "text/plain": [
       "'frog'"
      ]
     },
     "execution_count": 67,
     "metadata": {},
     "output_type": "execute_result"
    }
   ],
   "source": [
    "frog"
   ]
  },
  {
   "cell_type": "markdown",
   "metadata": {},
   "source": [
    "### Maintaining Order\n",
    "Sometimes you need to search for an item in a list."
   ]
  },
  {
   "cell_type": "code",
   "execution_count": 68,
   "metadata": {},
   "outputs": [
    {
     "name": "stdout",
     "output_type": "stream",
     "text": [
      "2\n",
      "['aardvark', 'badger', 'dog', 'duck', 'emu', 'fennec fox']\n"
     ]
    }
   ],
   "source": [
    "animals = [\"aardvark\", \"badger\", \"duck\", \"emu\", \"fennec fox\"]\n",
    "duck_index = animals.index(\"duck\")\n",
    "print(duck_index)\n",
    "# Your code here!\n",
    "animals.insert(duck_index, \"dog\")\n",
    "\n",
    "print(animals) # Observe what prints after the insert operation"
   ]
  },
  {
   "cell_type": "markdown",
   "metadata": {},
   "source": [
    "### For One and All\n",
    "\n",
    "If you want to do something with every item in the list, you can use a for loop. If you've learned about for loops in JavaScript, pay close attention! They're different in Python."
   ]
  },
  {
   "cell_type": "code",
   "execution_count": 69,
   "metadata": {},
   "outputs": [
    {
     "name": "stdout",
     "output_type": "stream",
     "text": [
      "2\n",
      "18\n",
      "6\n",
      "16\n",
      "10\n",
      "14\n"
     ]
    }
   ],
   "source": [
    "my_list = [1,9,3,8,5,7]\n",
    "\n",
    "for number in my_list:\n",
    "  # Your code here\n",
    "  square=2*number\n",
    "  print(square)"
   ]
  },
  {
   "cell_type": "code",
   "execution_count": 70,
   "metadata": {},
   "outputs": [
    {
     "name": "stdout",
     "output_type": "stream",
     "text": [
      "ant\n",
      "bat\n",
      "cat\n"
     ]
    }
   ],
   "source": [
    "animals = [\"cat\", \"ant\", \"bat\"]\n",
    "animals.sort()\n",
    "\n",
    "for animal in animals:\n",
    "  print(animal)"
   ]
  },
  {
   "cell_type": "code",
   "execution_count": 71,
   "metadata": {},
   "outputs": [
    {
     "name": "stdout",
     "output_type": "stream",
     "text": [
      "[1, 4, 9, 16, 25]\n"
     ]
    }
   ],
   "source": [
    "start_list = [5, 3, 1, 2, 4]\n",
    "square_list = []\n",
    "\n",
    "# Your code here!\n",
    "for number in start_list:\n",
    "  square_list.append(number ** 2)\n",
    "square_list.sort()\n",
    "\n",
    "print(square_list)"
   ]
  },
  {
   "cell_type": "markdown",
   "metadata": {},
   "source": [
    "### This Next Part is Key\n",
    "\n",
    "A dictionary is similar to a list, but you access values by looking up a key instead of an index. A key can be any string or number. Dictionaries are enclosed in curly braces, like so:"
   ]
  },
  {
   "cell_type": "code",
   "execution_count": 72,
   "metadata": {},
   "outputs": [
    {
     "name": "stdout",
     "output_type": "stream",
     "text": [
      "104\n",
      "105\n",
      "106\n"
     ]
    }
   ],
   "source": [
    "# Assigning a dictionary with three key-value pairs to residents:\n",
    "residents = {'Puffin' : 104, 'Sloth' : 105, 'Burmese Python' : 106}\n",
    "\n",
    "print(residents['Puffin']) # Prints Puffin's room number\n",
    "\n",
    "# Your code here!\n",
    "\n",
    "print(residents['Sloth'])\n",
    "print(residents['Burmese Python'])"
   ]
  },
  {
   "cell_type": "code",
   "execution_count": 74,
   "metadata": {},
   "outputs": [
    {
     "name": "stdout",
     "output_type": "stream",
     "text": [
      "14.5\n",
      "There are 5 items on the menu.\n",
      "{'Chicken Alfredo': 14.5, 'egg': 2.5, 'beer': 4.5, 'soda': 1.5, 'juice': 3.5}\n"
     ]
    }
   ],
   "source": [
    "menu = {} # Empty dictionary\n",
    "menu['Chicken Alfredo'] = 14.50 # Adding new key-value pair\n",
    "print(menu['Chicken Alfredo'])\n",
    "\n",
    "# Your code here: Add some dish-price pairs to menu!\n",
    "menu['egg'] = 2.50\n",
    "menu['beer'] = 4.50\n",
    "menu['soda'] = 1.50\n",
    "menu['juice'] = 3.50\n",
    "\n",
    "\n",
    "print(\"There are \" + str(len(menu)) + \" items on the menu.\")\n",
    "print(menu)"
   ]
  },
  {
   "cell_type": "code",
   "execution_count": 76,
   "metadata": {},
   "outputs": [
    {
     "name": "stdout",
     "output_type": "stream",
     "text": [
      "{'Atlantic Puffin': 'Arctic Exhibit', 'Rockhopper Penguin': 'Jungle House'}\n"
     ]
    }
   ],
   "source": [
    "# key - animal_name : value - location \n",
    "zoo_animals = { 'Unicorn' : 'Cotton Candy House',\n",
    "'Sloth' : 'Rainforest Exhibit',\n",
    "'Bengal Tiger' : 'Jungle House',\n",
    "'Atlantic Puffin' : 'Arctic Exhibit',\n",
    "'Rockhopper Penguin' : 'Arctic Exhibit'}\n",
    "# A dictionary (or list) declaration may break across multiple lines\n",
    "\n",
    "# Removing the 'Unicorn' entry. (Unicorns are incredibly expensive.)\n",
    "del zoo_animals['Unicorn']\n",
    "\n",
    "# Your code here!\n",
    "del zoo_animals['Sloth']\n",
    "del zoo_animals['Bengal Tiger']\n",
    "zoo_animals['Rockhopper Penguin'] = 'Jungle House'\n",
    "\n",
    "print(zoo_animals)"
   ]
  },
  {
   "cell_type": "code",
   "execution_count": 77,
   "metadata": {},
   "outputs": [
    {
     "name": "stdout",
     "output_type": "stream",
     "text": [
      "['xylophone', 'tent', 'bread loaf']\n"
     ]
    }
   ],
   "source": [
    "backpack = ['xylophone', 'dagger', 'tent', 'bread loaf']\n",
    "backpack.remove('dagger')\n",
    "print(backpack)"
   ]
  },
  {
   "cell_type": "code",
   "execution_count": 78,
   "metadata": {},
   "outputs": [],
   "source": [
    "inventory = {\n",
    "  'gold' : 500,\n",
    "  'pouch' : ['flint', 'twine', 'gemstone'], # Assigned a new list to 'pouch' key\n",
    "  'backpack' : ['xylophone','dagger', 'bedroll','bread loaf']\n",
    "}\n",
    "\n",
    "# Adding a key 'burlap bag' and assigning a list to it\n",
    "inventory['burlap bag'] = ['apple', 'small ruby', 'three-toed sloth']\n",
    "\n",
    "# Sorting the list found under the key 'pouch'\n",
    "inventory['pouch'].sort() \n",
    "\n",
    "# Your code here\n",
    "inventory['pocket'] = ['seashell', 'strange berry', 'lint']\n",
    "inventory['backpack'].sort()\n",
    "inventory['backpack'].remove('dagger')\n",
    "inventory['gold'] = inventory['gold'] + 50"
   ]
  },
  {
   "cell_type": "code",
   "execution_count": 79,
   "metadata": {},
   "outputs": [
    {
     "name": "stdout",
     "output_type": "stream",
     "text": [
      "{'gold': 550, 'pouch': ['flint', 'gemstone', 'twine'], 'backpack': ['bedroll', 'bread loaf', 'xylophone'], 'burlap bag': ['apple', 'small ruby', 'three-toed sloth'], 'pocket': ['seashell', 'strange berry', 'lint']}\n"
     ]
    }
   ],
   "source": [
    "print(inventory)"
   ]
  },
  {
   "cell_type": "code",
   "execution_count": 80,
   "metadata": {},
   "outputs": [
    {
     "name": "stdout",
     "output_type": "stream",
     "text": [
      "Adam\n",
      "Alex\n",
      "Mariah\n",
      "Martine\n",
      "Columbus\n"
     ]
    }
   ],
   "source": [
    "names = [\"Adam\",\"Alex\",\"Mariah\",\"Martine\",\"Columbus\"]\n",
    "\n",
    "for item in names:\n",
    "  print(item)"
   ]
  },
  {
   "cell_type": "code",
   "execution_count": 81,
   "metadata": {},
   "outputs": [
    {
     "name": "stdout",
     "output_type": "stream",
     "text": [
      "A star of a popular children's cartoon show.\n",
      "The sound a goat makes.\n",
      "Goes on the floor.\n",
      "A small amount.\n"
     ]
    }
   ],
   "source": [
    "webster = {\n",
    "  \"Aardvark\" : \"A star of a popular children's cartoon show.\",\n",
    "  \"Baa\" : \"The sound a goat makes.\",\n",
    "  \"Carpet\": \"Goes on the floor.\",\n",
    "  \"Dab\": \"A small amount.\"\n",
    "}\n",
    "\n",
    "# Add your code below!\n",
    "for i in webster:\n",
    "  print(webster[i])"
   ]
  },
  {
   "cell_type": "code",
   "execution_count": 82,
   "metadata": {},
   "outputs": [
    {
     "name": "stdout",
     "output_type": "stream",
     "text": [
      "0\n",
      "2\n",
      "4\n",
      "6\n",
      "8\n",
      "10\n",
      "12\n"
     ]
    }
   ],
   "source": [
    "a = [0, 1, 2, 3, 4, 5, 6, 7, 8, 9, 10, 11, 12, 13]\n",
    "\n",
    "for number in a:\n",
    "  if number%2==0:\n",
    "    print(number)"
   ]
  },
  {
   "cell_type": "code",
   "execution_count": 85,
   "metadata": {},
   "outputs": [
    {
     "name": "stdout",
     "output_type": "stream",
     "text": [
      "the count number less than10 in list isd 2 \n"
     ]
    }
   ],
   "source": [
    "def count_small(numbers):\n",
    "  total = 0\n",
    "  for n in numbers:\n",
    "    if n < 10:\n",
    "     total = total + 1\n",
    "  return total\n",
    "\n",
    "lotto = [4, 8, 15, 16, 23, 42]\n",
    "small = count_small(lotto)\n",
    "print(\"the count number less than10 in list isd %d \"%small)"
   ]
  },
  {
   "cell_type": "code",
   "execution_count": 86,
   "metadata": {},
   "outputs": [
    {
     "name": "stdout",
     "output_type": "stream",
     "text": [
      "2\n"
     ]
    }
   ],
   "source": [
    "# Write your function below!\n",
    "def fizz_count(x):\n",
    "  total=0\n",
    "  for d in x:\n",
    "    if d==\"fizz\":\n",
    "      total=total+1\n",
    "  return total\n",
    "\n",
    "print(fizz_count([\"fizz\",\"cat\",\"fizz\"]))"
   ]
  },
  {
   "cell_type": "code",
   "execution_count": 87,
   "metadata": {},
   "outputs": [
    {
     "name": "stdout",
     "output_type": "stream",
     "text": [
      "i\n",
      "i\n"
     ]
    }
   ],
   "source": [
    "word = \"Programming is fun!\"\n",
    "\n",
    "for letter in word:\n",
    "  # Only print out the letter i\n",
    "  if letter == \"i\":\n",
    "    print(letter)"
   ]
  },
  {
   "cell_type": "code",
   "execution_count": 88,
   "metadata": {},
   "outputs": [
    {
     "name": "stdout",
     "output_type": "stream",
     "text": [
      "banana\n",
      "price: 4\n",
      "stock: 6\n",
      "apple\n",
      "price: 2\n",
      "stock: 0\n",
      "orange\n",
      "price: 1.5\n",
      "stock: 32\n",
      "pear\n",
      "price: 3\n",
      "stock: 15\n"
     ]
    }
   ],
   "source": [
    "prices={\"banana\": 4,\n",
    "\"apple\": 2,\n",
    "\"orange\": 1.5,\n",
    "\"pear\": 3}\n",
    "\n",
    "stock={\"banana\": 6,\n",
    "\"apple\": 0,\n",
    "\"orange\": 32,\n",
    "\"pear\": 15}\n",
    "\n",
    "for key in prices:\n",
    "  print(key)\n",
    "  print(\"price: %s\" %prices[key])\n",
    "  print(\"stock: %s\" %stock[key])"
   ]
  },
  {
   "cell_type": "code",
   "execution_count": 91,
   "metadata": {},
   "outputs": [
    {
     "name": "stdout",
     "output_type": "stream",
     "text": [
      "24\n",
      "0\n",
      "48.0\n",
      "45\n",
      "117.0\n"
     ]
    }
   ],
   "source": [
    "prices = {\"banana\": 4,\"apple\": 2,\"orange\": 1.5,\"pear\": 3}\n",
    "\n",
    "stock = {\"banana\": 6, \"apple\": 0, \"orange\": 32, \"pear\": 15}\n",
    "\n",
    "total = 0\n",
    "for food in prices:\n",
    "  print(prices[food] * stock[food])\n",
    "  total = total + prices[food] * stock[food]\n",
    "print(total)"
   ]
  },
  {
   "cell_type": "code",
   "execution_count": 92,
   "metadata": {},
   "outputs": [
    {
     "name": "stdout",
     "output_type": "stream",
     "text": [
      "31\n"
     ]
    }
   ],
   "source": [
    "def sum(numbers):\n",
    "  total = 0\n",
    "  for number in numbers:\n",
    "    total += number\n",
    "  return total\n",
    "\n",
    "n = [1, 2, 5, 10, 13]\n",
    "print(sum(n))"
   ]
  },
  {
   "cell_type": "code",
   "execution_count": 94,
   "metadata": {},
   "outputs": [],
   "source": [
    "def compute_bill(food):\n",
    "    total=0\n",
    "    for i in prices:\n",
    "        total=total+prices[i]\n",
    "    return total"
   ]
  },
  {
   "cell_type": "code",
   "execution_count": 95,
   "metadata": {},
   "outputs": [
    {
     "data": {
      "text/plain": [
       "10.5"
      ]
     },
     "execution_count": 95,
     "metadata": {},
     "output_type": "execute_result"
    }
   ],
   "source": [
    "compute_bill(stock)"
   ]
  },
  {
   "cell_type": "code",
   "execution_count": 96,
   "metadata": {},
   "outputs": [],
   "source": [
    "def compute_bill(food):\n",
    "  total = 0\n",
    "  for item in food:\n",
    "    if stock[item] > 0:\n",
    "      total += prices[item]\n",
    "      stock[item] -= 1\n",
    "  return total"
   ]
  },
  {
   "cell_type": "code",
   "execution_count": 97,
   "metadata": {},
   "outputs": [
    {
     "data": {
      "text/plain": [
       "8.5"
      ]
     },
     "execution_count": 97,
     "metadata": {},
     "output_type": "execute_result"
    }
   ],
   "source": [
    "compute_bill(stock)"
   ]
  }
 ],
 "metadata": {
  "kernelspec": {
   "display_name": "Python 3",
   "language": "python",
   "name": "python3"
  },
  "language_info": {
   "codemirror_mode": {
    "name": "ipython",
    "version": 3
   },
   "file_extension": ".py",
   "mimetype": "text/x-python",
   "name": "python",
   "nbconvert_exporter": "python",
   "pygments_lexer": "ipython3",
   "version": "3.6.5"
  }
 },
 "nbformat": 4,
 "nbformat_minor": 2
}
