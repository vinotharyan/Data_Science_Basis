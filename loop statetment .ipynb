{
 "cells": [
  {
   "cell_type": "markdown",
   "metadata": {},
   "source": [
    "### if elif else statement "
   ]
  },
  {
   "cell_type": "code",
   "execution_count": 1,
   "metadata": {},
   "outputs": [
    {
     "name": "stdout",
     "output_type": "stream",
     "text": [
      "a is the greater value\n"
     ]
    }
   ],
   "source": [
    "a=100\n",
    "if(a>10):\n",
    "    print(\"a is the greater value\")\n",
    "else:\n",
    "    print(\"a is not greater\")"
   ]
  },
  {
   "cell_type": "code",
   "execution_count": 2,
   "metadata": {},
   "outputs": [
    {
     "name": "stdout",
     "output_type": "stream",
     "text": [
      "a is not greater\n"
     ]
    }
   ],
   "source": [
    "a=50\n",
    "if(a>100):\n",
    "    print(\"a is the greater value\")\n",
    "else:\n",
    "    print(\"a is not greater\")"
   ]
  },
  {
   "cell_type": "code",
   "execution_count": 3,
   "metadata": {},
   "outputs": [
    {
     "name": "stdout",
     "output_type": "stream",
     "text": [
      "its positive number\n"
     ]
    }
   ],
   "source": [
    "n=10\n",
    "if(n>0):\n",
    "    print(\"its positive number\")\n",
    "elif(n==0):\n",
    "    print(\"its zero\")\n",
    "else:\n",
    "    print(\"its negative\")"
   ]
  },
  {
   "cell_type": "code",
   "execution_count": 4,
   "metadata": {},
   "outputs": [
    {
     "name": "stdout",
     "output_type": "stream",
     "text": [
      "its negative\n"
     ]
    }
   ],
   "source": [
    "n=-1\n",
    "if(n>0):\n",
    "    print(\"its positive number\")\n",
    "elif(n==0):\n",
    "    print(\"its zero\")\n",
    "else:\n",
    "    print(\"its negative\")"
   ]
  },
  {
   "cell_type": "code",
   "execution_count": 8,
   "metadata": {},
   "outputs": [
    {
     "name": "stdout",
     "output_type": "stream",
     "text": [
      "enter value the n value :0\n"
     ]
    }
   ],
   "source": [
    "n=int(input(\"enter value the n value :\"))"
   ]
  },
  {
   "cell_type": "code",
   "execution_count": 9,
   "metadata": {},
   "outputs": [
    {
     "name": "stdout",
     "output_type": "stream",
     "text": [
      "its zero\n"
     ]
    }
   ],
   "source": [
    "if(n>0):\n",
    "    print(\"its positive number\")\n",
    "elif(n==0):\n",
    "    print(\"its zero\")\n",
    "else:\n",
    "    print(\"its negative\")"
   ]
  },
  {
   "cell_type": "code",
   "execution_count": 14,
   "metadata": {},
   "outputs": [],
   "source": [
    "bal=1000\n",
    "password=\"password@123\"\n"
   ]
  },
  {
   "cell_type": "code",
   "execution_count": 17,
   "metadata": {},
   "outputs": [
    {
     "name": "stdout",
     "output_type": "stream",
     "text": [
      "enter the amount:500\n",
      "enter the password : password@123\n"
     ]
    }
   ],
   "source": [
    "amount_withdraw=int(input(\"enter the amount:\"))\n",
    "password_user=input(\"enter the password : \")"
   ]
  },
  {
   "cell_type": "code",
   "execution_count": 18,
   "metadata": {},
   "outputs": [
    {
     "name": "stdout",
     "output_type": "stream",
     "text": [
      "current balance : 500\n"
     ]
    }
   ],
   "source": [
    "if(amount_withdraw<bal):\n",
    "    if(password==password_user):\n",
    "        bal=bal-amount_withdraw\n",
    "        print(\"current balance :\",bal)\n",
    "    elif(password!=password_user):\n",
    "        print(\"password is incorrect\")\n",
    "else:\n",
    "    print(\"balance is insufficient\")"
   ]
  },
  {
   "cell_type": "code",
   "execution_count": 20,
   "metadata": {},
   "outputs": [
    {
     "name": "stdout",
     "output_type": "stream",
     "text": [
      "enter the amount:100\n",
      "enter the password : vinoth\n"
     ]
    }
   ],
   "source": [
    "amount_withdraw=int(input(\"enter the amount:\"))\n",
    "password_user=input(\"enter the password : \")\n"
   ]
  },
  {
   "cell_type": "code",
   "execution_count": 21,
   "metadata": {},
   "outputs": [
    {
     "name": "stdout",
     "output_type": "stream",
     "text": [
      "password is incorrect\n"
     ]
    }
   ],
   "source": [
    "if(amount_withdraw<bal):\n",
    "    if(password==password_user):\n",
    "        bal=bal-amount_withdraw\n",
    "        print(\"current balance :\",bal)\n",
    "    elif(password!=password_user):\n",
    "        print(\"password is incorrect\")\n",
    "else:\n",
    "    print(\"balance is insufficient\")"
   ]
  },
  {
   "cell_type": "code",
   "execution_count": 22,
   "metadata": {},
   "outputs": [
    {
     "name": "stdout",
     "output_type": "stream",
     "text": [
      "enter the amount:10000\n",
      "enter the password : password@123\n"
     ]
    }
   ],
   "source": [
    "amount_withdraw=int(input(\"enter the amount:\"))\n",
    "password_user=input(\"enter the password : \")"
   ]
  },
  {
   "cell_type": "code",
   "execution_count": 23,
   "metadata": {},
   "outputs": [
    {
     "name": "stdout",
     "output_type": "stream",
     "text": [
      "balance is insufficient\n"
     ]
    }
   ],
   "source": [
    "if(amount_withdraw<bal):\n",
    "    if(password==password_user):\n",
    "        bal=bal-amount_withdraw\n",
    "        print(\"current balance :\",bal)\n",
    "    elif(password!=password_user):\n",
    "        print(\"password is incorrect\")\n",
    "else:\n",
    "    print(\"balance is insufficient\")"
   ]
  },
  {
   "cell_type": "code",
   "execution_count": 25,
   "metadata": {},
   "outputs": [
    {
     "name": "stdout",
     "output_type": "stream",
     "text": [
      "all the condtions is true\n"
     ]
    }
   ],
   "source": [
    "am=\"Hello\"\n",
    "if(am.capitalize):\n",
    "    if(len(am)==5):\n",
    "        print(\"all the condtions is true\")\n",
    "    elif(am.endswith('oo')):\n",
    "        print(\"it end with ooo\")\n",
    "else:\n",
    "    print(\"not true\")\n",
    "    "
   ]
  },
  {
   "cell_type": "code",
   "execution_count": 37,
   "metadata": {},
   "outputs": [
    {
     "name": "stdout",
     "output_type": "stream",
     "text": [
      "not true\n"
     ]
    }
   ],
   "source": [
    "am=\"@fg3\"\n",
    "if(am==am.isalpha):\n",
    "    print(\"its ia alpha\")\n",
    "elif(len(am)==5):\n",
    "    print(\"all the condtions is true\")\n",
    "elif(am.endswith('oo')):\n",
    "    print(\"it end with ooo\")\n",
    "elif(am==am.isupper):\n",
    "    print(\"its upper case\")\n",
    "else:\n",
    "    print(\"not true\")"
   ]
  },
  {
   "cell_type": "code",
   "execution_count": 38,
   "metadata": {},
   "outputs": [
    {
     "name": "stdout",
     "output_type": "stream",
     "text": [
      "1\n",
      "2\n",
      "3\n",
      "4\n",
      "5\n",
      "6\n"
     ]
    }
   ],
   "source": [
    "am=\"123456\"\n",
    "for i in am:\n",
    "    print(i)"
   ]
  },
  {
   "cell_type": "code",
   "execution_count": 40,
   "metadata": {},
   "outputs": [
    {
     "name": "stdout",
     "output_type": "stream",
     "text": [
      "this is value of i : 1\n",
      "this is value of i : 2\n",
      "this is value of i : 3\n",
      "this is value of i : 4\n",
      "this is value of i : 5\n",
      "this is value of i : 6\n"
     ]
    }
   ],
   "source": [
    "for i in am:\n",
    "    print(\"this is value of i :\",i)\n",
    "    "
   ]
  },
  {
   "cell_type": "code",
   "execution_count": 43,
   "metadata": {},
   "outputs": [
    {
     "name": "stdout",
     "output_type": "stream",
     "text": [
      "1\n",
      "2\n",
      "3\n",
      "4\n",
      "not in range\n"
     ]
    }
   ],
   "source": [
    "for i in range(1,5):\n",
    "    print(i)\n",
    "else:\n",
    "    print(\"not in range\")"
   ]
  },
  {
   "cell_type": "code",
   "execution_count": 47,
   "metadata": {},
   "outputs": [
    {
     "name": "stdout",
     "output_type": "stream",
     "text": [
      "1 its  not  even number\n",
      "2 its an even number\n",
      "3 its  not  even number\n",
      "4 its an even number\n",
      "5 its  not  even number\n",
      "6 its an even number\n",
      "7 its  not  even number\n",
      "8 its an even number\n",
      "9 its  not  even number\n",
      "10 its an even number\n"
     ]
    }
   ],
   "source": [
    "l=range(1,11)\n",
    "for el in l:\n",
    "    if el %2==0:\n",
    "        print(el,\"its an even number\")\n",
    "    else:\n",
    "        print(el,\"its  not  even number\")"
   ]
  },
  {
   "cell_type": "code",
   "execution_count": 57,
   "metadata": {},
   "outputs": [
    {
     "name": "stdout",
     "output_type": "stream",
     "text": [
      "1\n",
      "4\n",
      "9\n",
      "16\n",
      "25\n",
      "36\n",
      "49\n",
      "64\n",
      "81\n",
      "100\n",
      "out of range\n"
     ]
    }
   ],
   "source": [
    "l=[1,2,3,4,5,6,7,8,9,10]\n",
    "for el in l:\n",
    "    print(el * el)\n",
    "else:\n",
    "    print(\"out of range\")"
   ]
  },
  {
   "cell_type": "code",
   "execution_count": 58,
   "metadata": {},
   "outputs": [
    {
     "name": "stdout",
     "output_type": "stream",
     "text": [
      "range(0, 20)\n"
     ]
    }
   ],
   "source": [
    "em=range(20)\n",
    "print(em)"
   ]
  },
  {
   "cell_type": "code",
   "execution_count": 60,
   "metadata": {},
   "outputs": [
    {
     "name": "stdout",
     "output_type": "stream",
     "text": [
      "0\n",
      "2\n",
      "4\n",
      "6\n",
      "8\n",
      "10\n",
      "12\n",
      "14\n",
      "16\n",
      "18\n",
      "20\n",
      "22\n",
      "24\n",
      "26\n",
      "28\n",
      "30\n",
      "32\n",
      "34\n",
      "36\n",
      "38\n"
     ]
    }
   ],
   "source": [
    "for hh in em:\n",
    "    print(2*hh)"
   ]
  },
  {
   "cell_type": "code",
   "execution_count": 68,
   "metadata": {},
   "outputs": [
    {
     "name": "stdout",
     "output_type": "stream",
     "text": [
      "the even square number from the the list  [0, 2, 4, 6, 8, 10, 12, 14, 16, 18] and the sum 90\n",
      "the odd from the list  [1, 3, 5, 7, 9, 11, 13, 15, 17, 19] and the sum odd 100\n"
     ]
    }
   ],
   "source": [
    "even=[]\n",
    "odd=[]\n",
    "sum_e=0\n",
    "sum_o=0\n",
    "for hh in em:\n",
    "    if(hh% 2==0):\n",
    "        even.append(hh)\n",
    "        sum_e=sum_e+hh\n",
    "    else:\n",
    "        odd.append(hh)\n",
    "        sum_o=sum_o+hh\n",
    "print(\"the even square number from the the list \",even,\"and the sum  of even\",sum_e)\n",
    "print(\"the odd from the list \",odd, \"and the sum of odd\",sum_o)\n"
   ]
  },
  {
   "cell_type": "code",
   "execution_count": 79,
   "metadata": {},
   "outputs": [
    {
     "name": "stdout",
     "output_type": "stream",
     "text": [
      "['hindi', 'telugu', 'tamil', 'english', 'french']\n"
     ]
    }
   ],
   "source": [
    "lan_know=['hindi','telugu','tamil','english','french']\n",
    "len(lan_know)\n",
    "print(lan_know)"
   ]
  },
  {
   "cell_type": "code",
   "execution_count": 80,
   "metadata": {},
   "outputs": [
    {
     "name": "stdout",
     "output_type": "stream",
     "text": [
      "i will speak hindi\n",
      "i will speak telugu\n",
      "i will speak tamil\n",
      "i will speak english\n",
      "i will speak french\n"
     ]
    }
   ],
   "source": [
    "for kn in range(len(lan_know)):\n",
    "    print( \"i will speak {}\".format(lan_know[kn]))"
   ]
  }
 ],
 "metadata": {
  "kernelspec": {
   "display_name": "Python 3",
   "language": "python",
   "name": "python3"
  },
  "language_info": {
   "codemirror_mode": {
    "name": "ipython",
    "version": 3
   },
   "file_extension": ".py",
   "mimetype": "text/x-python",
   "name": "python",
   "nbconvert_exporter": "python",
   "pygments_lexer": "ipython3",
   "version": "3.6.4"
  }
 },
 "nbformat": 4,
 "nbformat_minor": 2
}
