{
 "cells": [
  {
   "cell_type": "markdown",
   "metadata": {},
   "source": [
    "In this project, we'll build Rock-Paper-Scissors!\n",
    "\n",
    "The program should do the following:\n",
    "\n",
    "Prompt the user to select either Rock, Paper, or Scissors.\n",
    "\n",
    "Instruct the computer to randomly select either Rock, Paper, or Scissors.\n",
    "\n",
    "Compare the user's choice and the computer's choice.\n",
    "\n",
    "Determine a winner (the user or the computer).\n",
    "\n",
    "Inform the user who the winner is."
   ]
  },
  {
   "cell_type": "code",
   "execution_count": 98,
   "metadata": {},
   "outputs": [
    {
     "name": "stdout",
     "output_type": "stream",
     "text": [
      "Enter Rock, Paper, or Scissors: paper\n",
      "you selected is PAPER\n",
      "computer selected is PAPER\n",
      "Yawn it's a tie!\n"
     ]
    }
   ],
   "source": [
    "\"\"\"this new project we are building Rock,paper,scissors \"\"\"\n",
    "from random import randint\n",
    "\n",
    "options=[\"ROCK\",\"PAPER\",\"SCISSORS\"]\n",
    "\n",
    "message={\"tie\" :\"Yawn it's a tie!\",\n",
    "         \"won\": \"Yay you won!\",\n",
    "         \"lost\": \"Aww you lost!\"}\n",
    "\n",
    "def decide_winner(user_choice,computer_choice):\n",
    "  print(\"you selected is %s\" % user_choice)\n",
    "  print(\"computer selected is %s\" % computer_choice)\n",
    "  if user_choice==computer_choice:\n",
    "    print(message[\"tie\"])\n",
    "  elif user_choice[0]==options[0] and computer_choice==options[1]:\n",
    "    print(message[\"won\"])\n",
    "  elif user_choice == options[1] and computer_choice == options[0]:\n",
    "    print(message[\"won\"])\n",
    "  elif user_choice == options[2] and computer_choice == options[1]:\n",
    "    print(message[\"won\"])\n",
    "  else:\n",
    "    print(message[\"lost\"])\n",
    "    \n",
    "def play_Rps():\n",
    "  user_choice = input(\"Enter Rock, Paper, or Scissors: \")\n",
    "  user_choice=user_choice.upper()\n",
    "  computer_choice=options[randint(0,2)]\n",
    "  \n",
    "  decide_winner(user_choice,computer_choice)\n",
    "play_Rps()"
   ]
  },
  {
   "cell_type": "code",
   "execution_count": 100,
   "metadata": {},
   "outputs": [
    {
     "name": "stdout",
     "output_type": "stream",
     "text": [
      "Enter Rock, Paper, or Scissors: paper\n",
      "you selected is PAPER\n",
      "computer selected is ROCK\n",
      "Yay you won!\n"
     ]
    }
   ],
   "source": [
    "play_Rps()"
   ]
  },
  {
   "cell_type": "code",
   "execution_count": 101,
   "metadata": {},
   "outputs": [],
   "source": [
    "lloyd = {\n",
    "  \"name\": \"Lloyd\",\n",
    "  \"homework\": [],\n",
    "  \"quizzes\": [],\n",
    "  \"tests\": []\n",
    "}\n",
    "alice = {\n",
    "  \"name\": \"Alice\",\n",
    "  \"homework\": [100.0, 92.0, 98.0, 100.0],\n",
    "  \"quizzes\": [82.0, 83.0, 91.0],\n",
    "  \"tests\": [89.0, 97.0]\n",
    "}\n",
    "tyler = {\n",
    "  \"name\": \"Tyler\",\n",
    "  \"homework\": [0.0, 87.0, 75.0, 22.0],\n",
    "  \"quizzes\": [0.0, 75.0, 78.0],\n",
    "  \"tests\": [100.0, 100.0]\n",
    "}\n",
    "\n",
    "lloyd[\"homework\"]=[90.0, 97.0, 75.0, 92.0]\n",
    "lloyd[\"quizzes\"]=[88.0, 40.0, 94.0]\n",
    "lloyd[\"tests\"]=[75.0, 90.0]"
   ]
  },
  {
   "cell_type": "code",
   "execution_count": 102,
   "metadata": {},
   "outputs": [
    {
     "data": {
      "text/plain": [
       "{'name': 'Lloyd',\n",
       " 'homework': [90.0, 97.0, 75.0, 92.0],\n",
       " 'quizzes': [88.0, 40.0, 94.0],\n",
       " 'tests': [75.0, 90.0]}"
      ]
     },
     "execution_count": 102,
     "metadata": {},
     "output_type": "execute_result"
    }
   ],
   "source": [
    "lloyd"
   ]
  },
  {
   "cell_type": "code",
   "execution_count": 103,
   "metadata": {},
   "outputs": [
    {
     "name": "stdout",
     "output_type": "stream",
     "text": [
      "Lloyd\n",
      "[90.0, 97.0, 75.0, 92.0]\n",
      "[88.0, 40.0, 94.0]\n",
      "[75.0, 90.0]\n",
      "Alice\n",
      "[100.0, 92.0, 98.0, 100.0]\n",
      "[82.0, 83.0, 91.0]\n",
      "[89.0, 97.0]\n",
      "Tyler\n",
      "[0.0, 87.0, 75.0, 22.0]\n",
      "[0.0, 75.0, 78.0]\n",
      "[100.0, 100.0]\n"
     ]
    }
   ],
   "source": [
    "students = [lloyd, alice, tyler]\n",
    "for student in students:\n",
    "  print(student[\"name\"])\n",
    "  print(student[\"homework\"])\n",
    "  print(student[\"quizzes\"])\n",
    "  print(student[\"tests\"])"
   ]
  },
  {
   "cell_type": "code",
   "execution_count": 104,
   "metadata": {},
   "outputs": [],
   "source": [
    "def average(numbers):\n",
    "  total = sum(numbers)\n",
    "  total = float(total)\n",
    "  return total / len(numbers)"
   ]
  },
  {
   "cell_type": "code",
   "execution_count": 105,
   "metadata": {},
   "outputs": [],
   "source": [
    "def get_average(student):\n",
    "  homework=average(student[\"homework\"])\n",
    "  quizzes=average(student[\"quizzes\"])\n",
    "  tests=average(student[\"tests\"])\n",
    "  return 0.1*homework+0.3*quizzes+0.6*tests"
   ]
  },
  {
   "cell_type": "code",
   "execution_count": 106,
   "metadata": {},
   "outputs": [
    {
     "data": {
      "text/plain": [
       "79.9"
      ]
     },
     "execution_count": 106,
     "metadata": {},
     "output_type": "execute_result"
    }
   ],
   "source": [
    "get_average(student)"
   ]
  },
  {
   "cell_type": "code",
   "execution_count": 107,
   "metadata": {},
   "outputs": [
    {
     "name": "stdout",
     "output_type": "stream",
     "text": [
      "B\n"
     ]
    }
   ],
   "source": [
    "def get_letter_grade(score):\n",
    "  if score >= 90:\n",
    "    return \"A\"\n",
    "  elif score >=80:\n",
    "    return \"B\"\n",
    "  elif score >=70:\n",
    "    return \"C\"\n",
    "  elif score >=60:\n",
    "    return \"D\"\n",
    "  else:\n",
    "    return \"F\"\n",
    "  \n",
    "print(get_letter_grade(get_average(lloyd)))"
   ]
  },
  {
   "cell_type": "code",
   "execution_count": 108,
   "metadata": {},
   "outputs": [],
   "source": [
    "def get_class_average(class_list):\n",
    "  results = []\n",
    "  for student in class_list:\n",
    "    student_avg = get_average(student)\n",
    "    results.append(student_avg)\n",
    "  return average(results)"
   ]
  },
  {
   "cell_type": "code",
   "execution_count": 109,
   "metadata": {},
   "outputs": [
    {
     "name": "stdout",
     "output_type": "stream",
     "text": [
      "B\n"
     ]
    }
   ],
   "source": [
    "students=[lloyd,alice,tyler]\n",
    "print(get_letter_grade(get_class_average(students)))"
   ]
  },
  {
   "cell_type": "markdown",
   "metadata": {},
   "source": [
    "LISTS AND FUNCTIONS\n",
    "\n",
    "List accessing\n",
    "\n",
    "This exercise goes over just pulling information from a list, \n"
   ]
  },
  {
   "cell_type": "code",
   "execution_count": 110,
   "metadata": {},
   "outputs": [],
   "source": [
    "from random import randint \n",
    "\n",
    "board = []\n",
    "\n",
    "for x in range(0, 5):\n",
    "  board.append([\"O\"] * 5)\n",
    "\n",
    "def print_board(board):\n",
    "  for row in board:\n",
    "    print(row)\n",
    "\n"
   ]
  },
  {
   "cell_type": "code",
   "execution_count": 111,
   "metadata": {},
   "outputs": [
    {
     "name": "stdout",
     "output_type": "stream",
     "text": [
      "['O', 'O', 'O', 'O', 'O']\n",
      "['O', 'O', 'O', 'O', 'O']\n",
      "['O', 'O', 'O', 'O', 'O']\n",
      "['O', 'O', 'O', 'O', 'O']\n",
      "['O', 'O', 'O', 'O', 'O']\n"
     ]
    }
   ],
   "source": [
    "print_board(board)"
   ]
  },
  {
   "cell_type": "code",
   "execution_count": 112,
   "metadata": {},
   "outputs": [],
   "source": [
    "def print_board(board):\n",
    "  for row in board:\n",
    "    print(\" \".join(row))"
   ]
  },
  {
   "cell_type": "code",
   "execution_count": 113,
   "metadata": {},
   "outputs": [
    {
     "name": "stdout",
     "output_type": "stream",
     "text": [
      "O O O O O\n",
      "O O O O O\n",
      "O O O O O\n",
      "O O O O O\n",
      "O O O O O\n"
     ]
    }
   ],
   "source": [
    "print_board(board)"
   ]
  },
  {
   "cell_type": "code",
   "execution_count": 118,
   "metadata": {},
   "outputs": [
    {
     "name": "stdout",
     "output_type": "stream",
     "text": [
      "O O O O O\n",
      "O O O O O\n",
      "O O O O O\n",
      "O O O O O\n",
      "O O O O O\n",
      "0\n",
      "3\n",
      "Guess Row: 2\n",
      "Guess Col: 2\n",
      "You missed my battleship!\n",
      "O O O O O\n",
      "O O O O O\n",
      "O O X O O\n",
      "O O O O O\n",
      "O O O O O\n",
      "You guessed that one already.\n"
     ]
    }
   ],
   "source": [
    "from random import randint\n",
    "\n",
    "\n",
    "print_board(board)\n",
    "\n",
    "def random_row(board):\n",
    "  return randint(0, len(board) - 1)\n",
    "\n",
    "def random_col(board):\n",
    "  return randint(0, len(board[0]) - 1)\n",
    "\n",
    "ship_row = random_row(board)\n",
    "ship_col = random_col(board)\n",
    "print(ship_row)\n",
    "print(ship_col)\n",
    "\n",
    "guess_row = int(input(\"Guess Row: \"))\n",
    "guess_col = int(input(\"Guess Col: \"))\n",
    "\n",
    "# Write your code below!\n",
    "if guess_col == ship_col and guess_row == ship_row:\n",
    "  print(\"Congratulations! You sank my battleship!\")\n",
    "else:\n",
    "  print(\"You missed my battleship!\")\n",
    "  board[guess_row][guess_col]=\"X\"\n",
    "  print_board(board)\n",
    "  if guess_row not in range(5) or guess_col not in range(5):\n",
    "    print(\"Oops, that's not even in the ocean.\")\n",
    "  elif board[guess_row][guess_col]==\"X\":\n",
    "    print(\"You guessed that one already.\")\n",
    "  else:\n",
    "    print(\"incorrect guess.\")"
   ]
  },
  {
   "cell_type": "markdown",
   "metadata": {},
   "source": [
    "### while syntax "
   ]
  },
  {
   "cell_type": "code",
   "execution_count": 121,
   "metadata": {},
   "outputs": [
    {
     "name": "stdout",
     "output_type": "stream",
     "text": [
      "Hello, I am an if statement and count is 0\n",
      "Hello, I am a while and count is 0\n",
      "Hello, I am a while and count is 1\n",
      "Hello, I am a while and count is 2\n",
      "Hello, I am a while and count is 3\n",
      "Hello, I am a while and count is 4\n",
      "Hello, I am a while and count is 5\n",
      "Hello, I am a while and count is 6\n",
      "Hello, I am a while and count is 7\n",
      "Hello, I am a while and count is 8\n",
      "Hello, I am a while and count is 9\n"
     ]
    }
   ],
   "source": [
    "count = 0\n",
    "\n",
    "if count < 9:\n",
    "  print(\"Hello, I am an if statement and count is\", count)\n",
    "  \n",
    "\n",
    "while count < 10:\n",
    "  print(\"Hello, I am a while and count is\", count)\n",
    "  count += 1"
   ]
  },
  {
   "cell_type": "code",
   "execution_count": 122,
   "metadata": {},
   "outputs": [
    {
     "name": "stdout",
     "output_type": "stream",
     "text": [
      "1\n",
      "4\n",
      "9\n",
      "16\n",
      "25\n",
      "36\n",
      "49\n",
      "64\n",
      "81\n",
      "100\n"
     ]
    }
   ],
   "source": [
    "num = 1\n",
    "\n",
    "while num <= 10:  # Fill in the condition\n",
    "  # Print num squared\n",
    "  print(num ** 2)\n",
    "  # Increment num (make sure to do this!)\n",
    "  num += 1"
   ]
  },
  {
   "cell_type": "code",
   "execution_count": 123,
   "metadata": {},
   "outputs": [
    {
     "name": "stdout",
     "output_type": "stream",
     "text": [
      "Enjoying the course? (y/n)y\n"
     ]
    }
   ],
   "source": [
    "choice = input('Enjoying the course? (y/n)')\n",
    "\n",
    "while choice != 'y' and choice != 'n':  # Fill in the condition (before the colon)\n",
    "  choice = input(\"Sorry, I didn't catch that. Enter again: \")"
   ]
  },
  {
   "cell_type": "code",
   "execution_count": 124,
   "metadata": {},
   "outputs": [
    {
     "name": "stdout",
     "output_type": "stream",
     "text": [
      "0\n",
      "1\n",
      "2\n",
      "3\n",
      "4\n",
      "5\n",
      "6\n",
      "7\n",
      "8\n",
      "9\n"
     ]
    }
   ],
   "source": [
    "count = 0\n",
    "\n",
    "while count < 10: # Add a colon\n",
    "  print(count)\n",
    "  # Increment count\n",
    "  count=count+1"
   ]
  },
  {
   "cell_type": "code",
   "execution_count": 125,
   "metadata": {},
   "outputs": [
    {
     "name": "stdout",
     "output_type": "stream",
     "text": [
      "0\n",
      "1\n",
      "2\n",
      "3\n",
      "4\n",
      "5\n",
      "6\n",
      "7\n",
      "8\n",
      "9\n"
     ]
    }
   ],
   "source": [
    "count = 0\n",
    "\n",
    "while True:\n",
    "  print(count)\n",
    "  count += 1\n",
    "  if count >= 10:\n",
    "    break"
   ]
  },
  {
   "cell_type": "code",
   "execution_count": 127,
   "metadata": {},
   "outputs": [
    {
     "name": "stdout",
     "output_type": "stream",
     "text": [
      "Lucky Numbers! 3 numbers will be generated.\n",
      "If one of them is a '5', you lose!\n",
      "1\n",
      "2\n",
      "5\n",
      "Sorry, you lose!\n"
     ]
    }
   ],
   "source": [
    "import random\n",
    "\n",
    "print(\"Lucky Numbers! 3 numbers will be generated.\")\n",
    "print(\"If one of them is a '5', you lose!\")\n",
    "\n",
    "count = 0\n",
    "while count < 3:\n",
    "  num = random.randint(1, 6)\n",
    "  print(num)\n",
    "  if num == 5:\n",
    "    print(\"Sorry, you lose!\")\n",
    "    break\n",
    "  count += 1\n",
    "else:\n",
    "  print(\"You win!\")"
   ]
  },
  {
   "cell_type": "code",
   "execution_count": 129,
   "metadata": {},
   "outputs": [
    {
     "name": "stdout",
     "output_type": "stream",
     "text": [
      "Your guess: 4\n",
      "Your guess: 4\n",
      "Your guess: 4\n",
      "You lose.\n"
     ]
    }
   ],
   "source": [
    "from random import randint\n",
    "\n",
    "# Generates a number from 1 through 10 inclusive\n",
    "random_number = randint(1, 10)\n",
    "\n",
    "guesses_left = 3\n",
    "# Start your game!\n",
    "while guesses_left > 0:\n",
    "  guess = int(input(\"Your guess: \"))\n",
    "  if guess == random_number:\n",
    "    print(\"You win!\")\n",
    "    break\n",
    "  guesses_left -= 1\n",
    "else:\n",
    "  print(\"You lose.\")"
   ]
  },
  {
   "cell_type": "code",
   "execution_count": 131,
   "metadata": {},
   "outputs": [
    {
     "name": "stdout",
     "output_type": "stream",
     "text": [
      "Counting...\n",
      "0\n",
      "1\n",
      "2\n",
      "3\n",
      "4\n",
      "5\n",
      "6\n",
      "7\n",
      "8\n",
      "9\n",
      "10\n",
      "11\n",
      "12\n",
      "13\n",
      "14\n",
      "15\n",
      "16\n",
      "17\n",
      "18\n",
      "19\n"
     ]
    }
   ],
   "source": [
    "print(\"Counting...\")\n",
    "\n",
    "for i in range(20):\n",
    "  print(i)"
   ]
  },
  {
   "cell_type": "code",
   "execution_count": 132,
   "metadata": {},
   "outputs": [
    {
     "name": "stdout",
     "output_type": "stream",
     "text": [
      "Tell me one of your favorite hobbies: 3\n",
      "Tell me one of your favorite hobbies: 3\n",
      "Tell me one of your favorite hobbies: 3\n",
      "['3', '3', '3']\n"
     ]
    }
   ],
   "source": [
    "hobbies = []\n",
    "\n",
    "# Add your code below!\n",
    "\n",
    "for num in range(3):\n",
    "  hobby =  input(\"Tell me one of your favorite hobbies: \")\n",
    "  hobbies.append(hobby)\n",
    "\n",
    "print(hobbies)"
   ]
  },
  {
   "cell_type": "code",
   "execution_count": 133,
   "metadata": {},
   "outputs": [
    {
     "name": "stdout",
     "output_type": "stream",
     "text": [
      "X\n",
      " \n",
      "b\n",
      "i\n",
      "r\n",
      "d\n",
      " \n",
      "i\n",
      "n\n",
      " \n",
      "t\n",
      "h\n",
      "e\n",
      " \n",
      "h\n",
      "X\n",
      "n\n",
      "d\n",
      ".\n",
      ".\n",
      ".\n"
     ]
    }
   ],
   "source": [
    "phrase = \"A bird in the hand...\"\n",
    "\n",
    "# Add your for loop\n",
    "\n",
    "for char in phrase:\n",
    "  if char==\"A\" or char==\"a\":\n",
    "    print(\"X\"),\n",
    "  else:\n",
    "    print(char),"
   ]
  },
  {
   "cell_type": "code",
   "execution_count": 134,
   "metadata": {},
   "outputs": [
    {
     "name": "stdout",
     "output_type": "stream",
     "text": [
      "This list contains: \n",
      "7\n",
      "9\n",
      "12\n",
      "54\n",
      "99\n",
      "49\n",
      "81\n",
      "144\n",
      "2916\n",
      "9801\n"
     ]
    }
   ],
   "source": [
    "numbers  = [7, 9, 12, 54, 99]\n",
    "\n",
    "print(\"This list contains: \")\n",
    "\n",
    "for num in numbers:\n",
    "  print(num)\n",
    "\n",
    "# Add your loop below!\n",
    "for num in numbers:\n",
    "  print(num**2)"
   ]
  },
  {
   "cell_type": "code",
   "execution_count": 135,
   "metadata": {},
   "outputs": [
    {
     "name": "stdout",
     "output_type": "stream",
     "text": [
      "a\n",
      "apple\n",
      "b\n",
      "berry\n",
      "c\n",
      "cherry\n"
     ]
    }
   ],
   "source": [
    "d = {'a': 'apple', 'b': 'berry', 'c': 'cherry'}\n",
    "\n",
    "for key in d:\n",
    "  # Your code here!\n",
    "  print(key)\n",
    "  print(d[key])"
   ]
  },
  {
   "cell_type": "code",
   "execution_count": 136,
   "metadata": {},
   "outputs": [
    {
     "name": "stdout",
     "output_type": "stream",
     "text": [
      "Your choices are:\n",
      "1 pizza\n",
      "2 pasta\n",
      "3 salad\n",
      "4 nachos\n"
     ]
    }
   ],
   "source": [
    "choices = ['pizza', 'pasta', 'salad', 'nachos']\n",
    "\n",
    "print('Your choices are:')\n",
    "for index, item in enumerate(choices):\n",
    "  print(index+1, item)"
   ]
  },
  {
   "cell_type": "code",
   "execution_count": 137,
   "metadata": {},
   "outputs": [
    {
     "name": "stdout",
     "output_type": "stream",
     "text": [
      "3\n",
      "9\n",
      "17\n",
      "15\n",
      "30\n"
     ]
    }
   ],
   "source": [
    "list_a = [3, 9, 17, 15, 19]\n",
    "list_b = [2, 4, 8, 10, 30, 40, 50, 60, 70, 80, 90]\n",
    "\n",
    "for a, b in zip(list_a, list_b):\n",
    "  # Add your code here!\n",
    "    print(max(a, b))"
   ]
  },
  {
   "cell_type": "code",
   "execution_count": 138,
   "metadata": {},
   "outputs": [],
   "source": [
    "def is_even(x):\n",
    "  if x%2==0:\n",
    "    return True\n",
    "  else:\n",
    "    return False"
   ]
  },
  {
   "cell_type": "code",
   "execution_count": 139,
   "metadata": {},
   "outputs": [
    {
     "data": {
      "text/plain": [
       "True"
      ]
     },
     "execution_count": 139,
     "metadata": {},
     "output_type": "execute_result"
    }
   ],
   "source": [
    "is_even(2)"
   ]
  },
  {
   "cell_type": "code",
   "execution_count": 140,
   "metadata": {},
   "outputs": [],
   "source": [
    "def is_int(x):\n",
    "  absolute = abs(x)\n",
    "  rounded = round(absolute)\n",
    "  return absolute - rounded == 0"
   ]
  },
  {
   "cell_type": "code",
   "execution_count": 141,
   "metadata": {},
   "outputs": [
    {
     "data": {
      "text/plain": [
       "True"
      ]
     },
     "execution_count": 141,
     "metadata": {},
     "output_type": "execute_result"
    }
   ],
   "source": [
    "is_int(7.0)   # True    \n",
    "is_int(7.5)   # False    \n",
    "is_int(-1)  "
   ]
  },
  {
   "cell_type": "code",
   "execution_count": 142,
   "metadata": {},
   "outputs": [
    {
     "data": {
      "text/plain": [
       "False"
      ]
     },
     "execution_count": 142,
     "metadata": {},
     "output_type": "execute_result"
    }
   ],
   "source": [
    "is_int(7.5) "
   ]
  },
  {
   "cell_type": "code",
   "execution_count": 143,
   "metadata": {},
   "outputs": [],
   "source": [
    "def digit_sum(x):\n",
    "    total = 0\n",
    "    while x > 0:\n",
    "        total += x % 10\n",
    "        x = x // 10\n",
    "        print (x)\n",
    "    return total"
   ]
  },
  {
   "cell_type": "code",
   "execution_count": 144,
   "metadata": {},
   "outputs": [
    {
     "name": "stdout",
     "output_type": "stream",
     "text": [
      "4\n",
      "0\n"
     ]
    },
    {
     "data": {
      "text/plain": [
       "9"
      ]
     },
     "execution_count": 144,
     "metadata": {},
     "output_type": "execute_result"
    }
   ],
   "source": [
    "digit_sum(45)"
   ]
  },
  {
   "cell_type": "code",
   "execution_count": 146,
   "metadata": {},
   "outputs": [
    {
     "data": {
      "text/plain": [
       "25852016738884976640000"
      ]
     },
     "execution_count": 146,
     "metadata": {},
     "output_type": "execute_result"
    }
   ],
   "source": [
    "def factorical(x):\n",
    "  fact=1\n",
    "  if x<0:\n",
    "    print(\"factorical will not aspect negative number\")\n",
    "  elif x==0:\n",
    "    print(\"factorical is 0 is 1 \")\n",
    "  else:\n",
    "    for i in range(1,x+1):\n",
    "      fact=fact*i\n",
    "    return fact\n",
    "\n",
    "  \n",
    "factorical(23)"
   ]
  },
  {
   "cell_type": "code",
   "execution_count": 154,
   "metadata": {},
   "outputs": [
    {
     "data": {
      "text/plain": [
       "25852016738884976640000"
      ]
     },
     "execution_count": 154,
     "metadata": {},
     "output_type": "execute_result"
    }
   ],
   "source": [
    "def factorical(x):\n",
    "    fact=1\n",
    "    while x>0:\n",
    "        fact*=x\n",
    "        x=x-1\n",
    "    return fact\n",
    "\n",
    "\n",
    "factorical(23)"
   ]
  },
  {
   "cell_type": "code",
   "execution_count": 161,
   "metadata": {},
   "outputs": [],
   "source": [
    "def is_prime(x):\n",
    "    if x<2:\n",
    "        return False\n",
    "    else:\n",
    "        for i in range(2,x):\n",
    "            if x%i==0:\n",
    "                return False\n",
    "        else:\n",
    "            return True"
   ]
  },
  {
   "cell_type": "code",
   "execution_count": 158,
   "metadata": {},
   "outputs": [
    {
     "data": {
      "text/plain": [
       "True"
      ]
     },
     "execution_count": 158,
     "metadata": {},
     "output_type": "execute_result"
    }
   ],
   "source": [
    "is_prime(2)"
   ]
  },
  {
   "cell_type": "code",
   "execution_count": 162,
   "metadata": {},
   "outputs": [
    {
     "data": {
      "text/plain": [
       "False"
      ]
     },
     "execution_count": 162,
     "metadata": {},
     "output_type": "execute_result"
    }
   ],
   "source": [
    "is_prime(4)"
   ]
  },
  {
   "cell_type": "code",
   "execution_count": 164,
   "metadata": {},
   "outputs": [
    {
     "name": "stdout",
     "output_type": "stream",
     "text": [
      "h\n",
      "t\n",
      "o\n",
      "n\n",
      "i\n",
      "v\n"
     ]
    }
   ],
   "source": [
    "def reverse(text):\n",
    "    for c in reversed(text):\n",
    "        print(c)\n",
    "reverse(\"vinoth\")"
   ]
  },
  {
   "cell_type": "markdown",
   "metadata": {},
   "source": [
    "## reverse string  by using loop"
   ]
  },
  {
   "cell_type": "code",
   "execution_count": 169,
   "metadata": {},
   "outputs": [],
   "source": [
    "def revers(text):\n",
    "    t=\"\"\n",
    "    for c in range(len(text),0,-1):\n",
    "        t=t+text[c-1]\n",
    "    print(t)"
   ]
  },
  {
   "cell_type": "code",
   "execution_count": 170,
   "metadata": {},
   "outputs": [
    {
     "name": "stdout",
     "output_type": "stream",
     "text": [
      "oniv\n"
     ]
    }
   ],
   "source": [
    "revers(\"vino\")"
   ]
  },
  {
   "cell_type": "markdown",
   "metadata": {},
   "source": [
    "### to check the vowel present in sentence"
   ]
  },
  {
   "cell_type": "code",
   "execution_count": 176,
   "metadata": {},
   "outputs": [],
   "source": [
    "vowel=['a','e','i','o','u','A','E','I','O','U']\n",
    "\n",
    "def anti_vowel(text):\n",
    "    for c in text:\n",
    "        for vowel in c:\n",
    "            return True\n",
    "    else:\n",
    "        return False"
   ]
  },
  {
   "cell_type": "code",
   "execution_count": 177,
   "metadata": {},
   "outputs": [
    {
     "data": {
      "text/plain": [
       "True"
      ]
     },
     "execution_count": 177,
     "metadata": {},
     "output_type": "execute_result"
    }
   ],
   "source": [
    "anti_vowel(\"io\")"
   ]
  },
  {
   "cell_type": "code",
   "execution_count": 178,
   "metadata": {},
   "outputs": [
    {
     "data": {
      "text/plain": [
       "True"
      ]
     },
     "execution_count": 178,
     "metadata": {},
     "output_type": "execute_result"
    }
   ],
   "source": [
    "anti_vowel(\"vinoth\")"
   ]
  },
  {
   "cell_type": "code",
   "execution_count": 180,
   "metadata": {},
   "outputs": [
    {
     "data": {
      "text/plain": [
       "True"
      ]
     },
     "execution_count": 180,
     "metadata": {},
     "output_type": "execute_result"
    }
   ],
   "source": [
    "anti_vowel(\"th\")"
   ]
  },
  {
   "cell_type": "markdown",
   "metadata": {},
   "source": [
    "### count the vowel in the sentence"
   ]
  },
  {
   "cell_type": "code",
   "execution_count": 220,
   "metadata": {},
   "outputs": [],
   "source": [
    "def count_vowel(text):\n",
    "    count=0\n",
    "    for c in text:\n",
    "        for i in vowel:\n",
    "            if c==i:\n",
    "                count=count+1\n",
    "            \n",
    "                \n",
    "        \n",
    "    return count"
   ]
  },
  {
   "cell_type": "code",
   "execution_count": 221,
   "metadata": {},
   "outputs": [
    {
     "data": {
      "text/plain": [
       "2"
      ]
     },
     "execution_count": 221,
     "metadata": {},
     "output_type": "execute_result"
    }
   ],
   "source": [
    "count_vowel(\"vinoth\")"
   ]
  },
  {
   "cell_type": "code",
   "execution_count": 222,
   "metadata": {},
   "outputs": [
    {
     "data": {
      "text/plain": [
       "0"
      ]
     },
     "execution_count": 222,
     "metadata": {},
     "output_type": "execute_result"
    }
   ],
   "source": [
    "count_vowel(\"th\")"
   ]
  },
  {
   "cell_type": "markdown",
   "metadata": {},
   "source": [
    "## Replace vowel with no space"
   ]
  },
  {
   "cell_type": "code",
   "execution_count": 225,
   "metadata": {},
   "outputs": [
    {
     "data": {
      "text/plain": [
       "'vnth'"
      ]
     },
     "execution_count": 225,
     "metadata": {},
     "output_type": "execute_result"
    }
   ],
   "source": [
    "def antirvowel(text):\n",
    "    c=\"\"\n",
    "    for d in text:\n",
    "        for i in vowel:\n",
    "            if d==i:\n",
    "                d=\"\"\n",
    "            else:\n",
    "                d=d\n",
    "        c=c+d\n",
    "    return c\n",
    "\n",
    "antirvowel(\"vinoth\")\n",
    "                "
   ]
  },
  {
   "cell_type": "markdown",
   "metadata": {},
   "source": [
    "## count the letter base on score "
   ]
  },
  {
   "cell_type": "code",
   "execution_count": 226,
   "metadata": {},
   "outputs": [],
   "source": [
    "score = {\"a\": 1, \"c\": 3, \"b\": 3, \"e\": 1, \"d\": 2, \"g\": 2, \n",
    "         \"f\": 4, \"i\": 1, \"h\": 4, \"k\": 5, \"j\": 8, \"m\": 3, \n",
    "         \"l\": 1, \"o\": 1, \"n\": 1, \"q\": 10, \"p\": 3, \"s\": 1, \n",
    "         \"r\": 1, \"u\": 1, \"t\": 1, \"w\": 4, \"v\": 4, \"y\": 4, \n",
    "         \"x\": 8, \"z\": 10}"
   ]
  },
  {
   "cell_type": "code",
   "execution_count": 228,
   "metadata": {},
   "outputs": [
    {
     "data": {
      "text/plain": [
       "12"
      ]
     },
     "execution_count": 228,
     "metadata": {},
     "output_type": "execute_result"
    }
   ],
   "source": [
    "def count_word_with_score(text):\n",
    "    total=0\n",
    "    for letter in text:\n",
    "        for let in score:\n",
    "            if letter==let:\n",
    "                total=total+score[let]\n",
    "    return total\n",
    "count_word_with_score(\"vinoth\")"
   ]
  },
  {
   "cell_type": "code",
   "execution_count": 237,
   "metadata": {},
   "outputs": [
    {
     "data": {
      "text/plain": [
       "'*vinoth is *vinoth is *vinoth is *vinoth is *vinoth is *vinoth is *vinoth is *vinoth is '"
      ]
     },
     "execution_count": 237,
     "metadata": {},
     "output_type": "execute_result"
    }
   ],
   "source": [
    "def censor(text,word):\n",
    "  rep=\"*\"\n",
    "  for i in text:\n",
    "        for c in word:\n",
    "            if c==i:\n",
    "                i=rep\n",
    "            else:\n",
    "                i=i\n",
    "        rep=rep+i\n",
    "  return rep\n",
    "\n",
    "censor(\"vinoth is bad\",\"bad\")"
   ]
  },
  {
   "cell_type": "code",
   "execution_count": 238,
   "metadata": {},
   "outputs": [
    {
     "data": {
      "text/plain": [
       "'vinoth is ***'"
      ]
     },
     "execution_count": 238,
     "metadata": {},
     "output_type": "execute_result"
    }
   ],
   "source": [
    "def censor(text, word):\n",
    "    words = text.split()\n",
    "    result = ''\n",
    "    stars = '*' * len(word)\n",
    "    count = 0\n",
    "    for i in words:\n",
    "        if i == word:\n",
    "            words[count] = stars\n",
    "        count += 1\n",
    "    result =' '.join(words)\n",
    "\n",
    "    return result\n",
    "censor(\"vinoth is bad\",\"bad\")"
   ]
  },
  {
   "cell_type": "code",
   "execution_count": 239,
   "metadata": {},
   "outputs": [
    {
     "data": {
      "text/plain": [
       "3"
      ]
     },
     "execution_count": 239,
     "metadata": {},
     "output_type": "execute_result"
    }
   ],
   "source": [
    "def count(sequence,item):\n",
    "  count=0\n",
    "  for i in sequence:\n",
    "    if i==item:\n",
    "      count=count+1\n",
    "  return count\n",
    "count([1, 2, 1, 1], 1)"
   ]
  },
  {
   "cell_type": "markdown",
   "metadata": {},
   "source": [
    "## program to append in list"
   ]
  },
  {
   "cell_type": "code",
   "execution_count": 240,
   "metadata": {},
   "outputs": [
    {
     "data": {
      "text/plain": [
       "[2, 4]"
      ]
     },
     "execution_count": 240,
     "metadata": {},
     "output_type": "execute_result"
    }
   ],
   "source": [
    "def purify(sequence):\n",
    "    c=[]\n",
    "    for d in sequence:\n",
    "        if d%2==0:\n",
    "            c.append(d)\n",
    "    return c\n",
    "\n",
    "purify([1,2,3,4])\n",
    "        "
   ]
  },
  {
   "cell_type": "code",
   "execution_count": 241,
   "metadata": {},
   "outputs": [
    {
     "data": {
      "text/plain": [
       "120"
      ]
     },
     "execution_count": 241,
     "metadata": {},
     "output_type": "execute_result"
    }
   ],
   "source": [
    "def product(list):\n",
    "  total = 1\n",
    "  for num in list:\n",
    "    total = total * num\n",
    "  return total\n",
    "product([4,5,6])"
   ]
  },
  {
   "cell_type": "code",
   "execution_count": 246,
   "metadata": {},
   "outputs": [
    {
     "name": "stdout",
     "output_type": "stream",
     "text": [
      "Today is: Sunday September 09, 2018\n",
      "Time is: 21:25:42\n"
     ]
    }
   ],
   "source": [
    "from time import strftime\n",
    "print(\"Today is: \" + strftime(\"%A %B %d, %Y\"))\n",
    "print(\"Time is: \" + strftime(\"%H:%M:%S\"))"
   ]
  },
  {
   "cell_type": "code",
   "execution_count": 248,
   "metadata": {},
   "outputs": [
    {
     "name": "stdout",
     "output_type": "stream",
     "text": [
      "100\n",
      "100\n",
      "90\n",
      "40\n",
      "80\n",
      "100\n",
      "85\n",
      "70\n",
      "90\n",
      "65\n",
      "90\n",
      "85\n",
      "50.5\n"
     ]
    }
   ],
   "source": [
    "grades = [100, 100, 90, 40, 80, 100, 85, 70, 90, 65, 90, 85, 50.5]\n",
    "\n",
    "def print_grades(grades_input):\n",
    "  for grade in grades_input:\n",
    "    print(grade)\n",
    "  \n",
    "print_grades(grades)"
   ]
  },
  {
   "cell_type": "code",
   "execution_count": 249,
   "metadata": {},
   "outputs": [
    {
     "name": "stdout",
     "output_type": "stream",
     "text": [
      "1045.5\n"
     ]
    }
   ],
   "source": [
    "def grades_sum(scores):\n",
    "  total=0\n",
    "  for grade in scores:\n",
    "    total=total+grade\n",
    "  return total\n",
    "\n",
    "print(grades_sum(grades))"
   ]
  },
  {
   "cell_type": "code",
   "execution_count": 250,
   "metadata": {},
   "outputs": [
    {
     "name": "stdout",
     "output_type": "stream",
     "text": [
      "80.42307692307692\n"
     ]
    }
   ],
   "source": [
    "def grades_average(grades_input):\n",
    "  average=grades_sum(grades_input)/float(len(grades_input))\n",
    "  return average\n",
    "\n",
    "print(grades_average(grades))"
   ]
  },
  {
   "cell_type": "code",
   "execution_count": 252,
   "metadata": {},
   "outputs": [
    {
     "name": "stdout",
     "output_type": "stream",
     "text": [
      "334.0710059171598\n"
     ]
    }
   ],
   "source": [
    "def grades_variance(scores):\n",
    "    average = grades_average(scores)\n",
    "    variance = 0\n",
    "    for score in scores:\n",
    "        variance += (average - score) ** 2\n",
    "    return variance / len(scores)\n",
    "\n",
    "print(grades_variance(grades))"
   ]
  },
  {
   "cell_type": "code",
   "execution_count": 253,
   "metadata": {},
   "outputs": [
    {
     "name": "stdout",
     "output_type": "stream",
     "text": [
      "18.277609414722697\n"
     ]
    }
   ],
   "source": [
    "def grades_std_deviation(variance):\n",
    "  return variance**0.5\n",
    "\n",
    "variance=grades_variance(grades)\n",
    "\n",
    "print(grades_std_deviation(variance))"
   ]
  },
  {
   "cell_type": "code",
   "execution_count": 254,
   "metadata": {},
   "outputs": [
    {
     "name": "stdout",
     "output_type": "stream",
     "text": [
      "dict_items([('Name', 'vinot'), ('Age', 26), ('BDFL', True)])\n",
      "dict_keys(['Name', 'Age', 'BDFL'])\n",
      "dict_values(['vinot', 26, True])\n"
     ]
    }
   ],
   "source": [
    "my_dict= {\n",
    "  \"Name\": \"vinot\",\n",
    "  \"Age\": 26,\n",
    "  \"BDFL\": True\n",
    "}\n",
    "print(my_dict.items())\n",
    "print(my_dict.keys())\n",
    "print(my_dict.values())"
   ]
  },
  {
   "cell_type": "code",
   "execution_count": 255,
   "metadata": {},
   "outputs": [
    {
     "name": "stdout",
     "output_type": "stream",
     "text": [
      "vinot Name\n",
      "26 Age\n",
      "True BDFL\n"
     ]
    }
   ],
   "source": [
    "for key in my_dict:\n",
    "  print(my_dict[key], key)"
   ]
  },
  {
   "cell_type": "code",
   "execution_count": 257,
   "metadata": {},
   "outputs": [
    {
     "name": "stdout",
     "output_type": "stream",
     "text": [
      "[0, 2, 4, 6, 8, 10, 12, 14, 16, 18, 20, 22, 24, 26, 28, 30, 32, 34, 36, 38, 40, 42, 44, 46, 48, 50]\n"
     ]
    }
   ],
   "source": [
    "evens_to_50 = [i for i in range(51) if i % 2 == 0]\n",
    "print(evens_to_50)"
   ]
  },
  {
   "cell_type": "code",
   "execution_count": 258,
   "metadata": {},
   "outputs": [
    {
     "name": "stdout",
     "output_type": "stream",
     "text": [
      "[4, 16, 36, 64, 100]\n"
     ]
    }
   ],
   "source": [
    "even_squares = [x ** 2 for x in range(1, 12) if x % 2 == 0]\n",
    "\n",
    "print(even_squares)"
   ]
  },
  {
   "cell_type": "code",
   "execution_count": 259,
   "metadata": {},
   "outputs": [
    {
     "name": "stdout",
     "output_type": "stream",
     "text": [
      "[2, 4, 6, 8, 10]\n"
     ]
    }
   ],
   "source": [
    "eve = [x for x in range(1, 12) if x % 2 == 0]\n",
    "print(eve)"
   ]
  },
  {
   "cell_type": "code",
   "execution_count": 261,
   "metadata": {},
   "outputs": [
    {
     "name": "stdout",
     "output_type": "stream",
     "text": [
      "[8, 64, 216, 512, 1000]\n"
     ]
    }
   ],
   "source": [
    "eve_cube = [x*x**2 for x in range(1, 12) if x % 2 == 0]\n",
    "print(eve_cube)"
   ]
  },
  {
   "cell_type": "code",
   "execution_count": 262,
   "metadata": {},
   "outputs": [
    {
     "name": "stdout",
     "output_type": "stream",
     "text": [
      "[8, 64, 216, 512, 1000]\n"
     ]
    }
   ],
   "source": [
    "cubes_by_four = [x ** 3 for x in range(1, 11) if ((x ** 3) % 4) == 0]\n",
    "print(cubes_by_four)"
   ]
  },
  {
   "cell_type": "code",
   "execution_count": 263,
   "metadata": {},
   "outputs": [
    {
     "name": "stdout",
     "output_type": "stream",
     "text": [
      "range(1, 11, 2)\n"
     ]
    }
   ],
   "source": [
    "my_list = range(1, 11) # List of numbers 1 - 10\n",
    "\n",
    "# Add your code below!\n",
    "print(my_list[::2])"
   ]
  },
  {
   "cell_type": "code",
   "execution_count": 264,
   "metadata": {},
   "outputs": [
    {
     "name": "stdout",
     "output_type": "stream",
     "text": [
      "['E', 'D', 'C', 'B', 'A']\n"
     ]
    }
   ],
   "source": [
    "letters = ['A', 'B', 'C', 'D', 'E']\n",
    "print(letters[::-1])"
   ]
  },
  {
   "cell_type": "code",
   "execution_count": 265,
   "metadata": {},
   "outputs": [
    {
     "name": "stdout",
     "output_type": "stream",
     "text": [
      "range(0, 101, 10)\n"
     ]
    }
   ],
   "source": [
    "to_one_hundred = range(101)\n",
    "# Add your code below!\n",
    "\n",
    "backwards_by_tens=to_one_hundred[0:101:10]\n",
    "\n",
    "print(backwards_by_tens)"
   ]
  },
  {
   "cell_type": "code",
   "execution_count": 271,
   "metadata": {},
   "outputs": [],
   "source": [
    "t0_21=[x for x in range(1,22)]"
   ]
  },
  {
   "cell_type": "code",
   "execution_count": 272,
   "metadata": {},
   "outputs": [
    {
     "data": {
      "text/plain": [
       "[1, 2, 3, 4, 5, 6, 7, 8, 9, 10, 11, 12, 13, 14, 15, 16, 17, 18, 19, 20, 21]"
      ]
     },
     "execution_count": 272,
     "metadata": {},
     "output_type": "execute_result"
    }
   ],
   "source": [
    "t0_21"
   ]
  },
  {
   "cell_type": "code",
   "execution_count": 273,
   "metadata": {},
   "outputs": [],
   "source": [
    "odds=[x for x in t0_21 if x%2!=0]"
   ]
  },
  {
   "cell_type": "code",
   "execution_count": 274,
   "metadata": {},
   "outputs": [
    {
     "data": {
      "text/plain": [
       "[1, 3, 5, 7, 9, 11, 13, 15, 17, 19, 21]"
      ]
     },
     "execution_count": 274,
     "metadata": {},
     "output_type": "execute_result"
    }
   ],
   "source": [
    "odds"
   ]
  },
  {
   "cell_type": "code",
   "execution_count": 276,
   "metadata": {},
   "outputs": [
    {
     "data": {
      "text/plain": [
       "[8, 9, 10, 11, 12, 13, 14]"
      ]
     },
     "execution_count": 276,
     "metadata": {},
     "output_type": "execute_result"
    }
   ],
   "source": [
    "middle_third = t0_21[7:14]\n",
    "middle_third"
   ]
  },
  {
   "cell_type": "markdown",
   "metadata": {},
   "source": [
    "Anonymous Functions\n",
    "\n",
    "One of the more powerful aspects of Python is that it allows for a style of programming called functional programming, which means that you're allowed to pass functions around just as if they were variables or values. Sometimes we take this for granted, but not all languages allow this!\n",
    "\n",
    "Check out the code at the right. See the lambda bit"
   ]
  },
  {
   "cell_type": "code",
   "execution_count": 280,
   "metadata": {},
   "outputs": [
    {
     "data": {
      "text/plain": [
       "<filter at 0x5246198>"
      ]
     },
     "execution_count": 280,
     "metadata": {},
     "output_type": "execute_result"
    }
   ],
   "source": [
    "my_list = range(16)\n",
    "filter(lambda x: x % 3 == 0, my_list)\n"
   ]
  },
  {
   "cell_type": "code",
   "execution_count": 281,
   "metadata": {},
   "outputs": [
    {
     "data": {
      "text/plain": [
       "[3, 5, 6, 9, 10, 12, 15]"
      ]
     },
     "execution_count": 281,
     "metadata": {},
     "output_type": "execute_result"
    }
   ],
   "source": [
    "threes_and_fives = [x for x in range(1, 16) if x % 3 == 0 or x % 5 == 0]\n",
    "threes_and_fives"
   ]
  },
  {
   "cell_type": "code",
   "execution_count": 282,
   "metadata": {},
   "outputs": [
    {
     "name": "stdout",
     "output_type": "stream",
     "text": [
      "I am the secret message!\n"
     ]
    }
   ],
   "source": [
    "garbled = \"!XeXgXaXsXsXeXmX XtXeXrXcXeXsX XeXhXtX XmXaX XI\"\n",
    "message = garbled[::-2]\n",
    "\n",
    "print(message)"
   ]
  },
  {
   "cell_type": "code",
   "execution_count": 283,
   "metadata": {},
   "outputs": [
    {
     "name": "stdout",
     "output_type": "stream",
     "text": [
      "<filter object at 0x0000000005246358>\n"
     ]
    }
   ],
   "source": [
    "rbled = \"IXXX aXXmX aXXXnXoXXXXXtXhXeXXXXrX sXXXXeXcXXXrXeXt mXXeXsXXXsXaXXXXXXgXeX!XX\"\n",
    "\n",
    "message=filter(lambda x:x!=\"X\",garbled)\n",
    "\n",
    "print(message)"
   ]
  },
  {
   "cell_type": "code",
   "execution_count": 284,
   "metadata": {},
   "outputs": [
    {
     "name": "stdout",
     "output_type": "stream",
     "text": [
      "0\n",
      "10\n",
      "0\n",
      "13\n",
      "38\n",
      "-89\n"
     ]
    }
   ],
   "source": [
    "print(5 >> 4)  # Right Shift\n",
    "print(5 << 1)  # Left Shift\n",
    "print(8 & 5)   # Bitwise AND\n",
    "print(9 | 4)   # Bitwise OR\n",
    "print(12 ^ 42) # Bitwise XOR\n",
    "print(~88)     # Bitwise NOT"
   ]
  },
  {
   "cell_type": "code",
   "execution_count": null,
   "metadata": {},
   "outputs": [],
   "source": []
  }
 ],
 "metadata": {
  "kernelspec": {
   "display_name": "Python 3",
   "language": "python",
   "name": "python3"
  },
  "language_info": {
   "codemirror_mode": {
    "name": "ipython",
    "version": 3
   },
   "file_extension": ".py",
   "mimetype": "text/x-python",
   "name": "python",
   "nbconvert_exporter": "python",
   "pygments_lexer": "ipython3",
   "version": "3.6.5"
  }
 },
 "nbformat": 4,
 "nbformat_minor": 2
}
